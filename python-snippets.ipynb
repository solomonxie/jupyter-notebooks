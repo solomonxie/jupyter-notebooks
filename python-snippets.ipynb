{
 "cells": [
  {
   "cell_type": "markdown",
   "metadata": {},
   "source": [
    "# Python snippets 常用语法语句示例"
   ]
  },
  {
   "cell_type": "code",
   "execution_count": null,
   "metadata": {},
   "outputs": [],
   "source": []
  },
  {
   "cell_type": "code",
   "execution_count": null,
   "metadata": {},
   "outputs": [],
   "source": []
  },
  {
   "cell_type": "code",
   "execution_count": null,
   "metadata": {},
   "outputs": [],
   "source": []
  },
  {
   "cell_type": "markdown",
   "metadata": {},
   "source": [
    "# String 字符串"
   ]
  },
  {
   "cell_type": "markdown",
   "metadata": {},
   "source": [
    "## 即使是从外部文件获取的字符串，%s的格式化也能使用"
   ]
  },
  {
   "cell_type": "code",
   "execution_count": null,
   "metadata": {},
   "outputs": [],
   "source": [
    "url = 'https://api.github.com/repos/%s/%s/issues'\n",
    "\n",
    "print url%('solomonxie', 'gitissues')\n",
    "print url%(config['username'], config['repos'][0])"
   ]
  },
  {
   "cell_type": "code",
   "execution_count": null,
   "metadata": {},
   "outputs": [],
   "source": []
  },
  {
   "cell_type": "code",
   "execution_count": null,
   "metadata": {},
   "outputs": [],
   "source": []
  },
  {
   "cell_type": "code",
   "execution_count": null,
   "metadata": {},
   "outputs": [],
   "source": []
  },
  {
   "cell_type": "markdown",
   "metadata": {},
   "source": [
    "# List 数组"
   ]
  },
  {
   "cell_type": "code",
   "execution_count": null,
   "metadata": {},
   "outputs": [],
   "source": []
  },
  {
   "cell_type": "code",
   "execution_count": null,
   "metadata": {},
   "outputs": [],
   "source": []
  },
  {
   "cell_type": "markdown",
   "metadata": {},
   "source": [
    "### Superscript 将所有数字变成上标"
   ]
  },
  {
   "cell_type": "code",
   "execution_count": 6,
   "metadata": {},
   "outputs": [
    {
     "name": "stdout",
     "output_type": "stream",
     "text": [
      "¹第一句话 ²第二句话 ³第三句话\n"
     ]
    }
   ],
   "source": [
    "content = '1第一句话 2第二句话 3第三句话'\n",
    "\n",
    "numbers = [\n",
    "    ['0','1','2','3','4','5','6','7','8','9'],\n",
    "    ['⁰', '¹', '²', '³', '⁴', '⁵', '⁶', '⁷', '⁸', '⁹']\n",
    "]\n",
    "\n",
    "\n",
    "for i in numbers[0]:\n",
    "    content = content.replace(i, numbers[1][int(i)])\n",
    "\n",
    "print(content)"
   ]
  },
  {
   "cell_type": "code",
   "execution_count": null,
   "metadata": {},
   "outputs": [],
   "source": []
  },
  {
   "cell_type": "code",
   "execution_count": null,
   "metadata": {},
   "outputs": [],
   "source": []
  },
  {
   "cell_type": "markdown",
   "metadata": {},
   "source": [
    "# Set 集合"
   ]
  },
  {
   "cell_type": "markdown",
   "metadata": {},
   "source": [
    "## Set集的对比和运算"
   ]
  },
  {
   "cell_type": "code",
   "execution_count": null,
   "metadata": {},
   "outputs": [],
   "source": [
    "# I want to get all changes in the NEW, which should be [3.1, 4, 6, 7]\n",
    "old = [1,2,3,4,5]           # 5 articles in total\n",
    "new = [1,2,3.1,5,6,7,3.1]   # updated no.3, deleted no.4, anded no.6 and no.7\n",
    "\n",
    "olds = set(old)\n",
    "news = set(new)\n",
    "\n",
    "print news - olds   # `only` get all added items\n",
    "print olds - news   # `only` get all deleted items\n",
    "\n",
    "print 'These need to be retrieved from internet: %s'%str(news-olds)\n",
    "print 'These need to be deleted from local: %s'%str(olds-news)"
   ]
  },
  {
   "cell_type": "code",
   "execution_count": null,
   "metadata": {},
   "outputs": [],
   "source": []
  },
  {
   "cell_type": "code",
   "execution_count": null,
   "metadata": {},
   "outputs": [],
   "source": []
  },
  {
   "cell_type": "code",
   "execution_count": null,
   "metadata": {},
   "outputs": [],
   "source": []
  },
  {
   "cell_type": "code",
   "execution_count": null,
   "metadata": {},
   "outputs": [],
   "source": []
  },
  {
   "cell_type": "markdown",
   "metadata": {},
   "source": [
    "# RegularExpression 正则表达式"
   ]
  },
  {
   "cell_type": "code",
   "execution_count": 3,
   "metadata": {},
   "outputs": [
    {
     "name": "stdout",
     "output_type": "stream",
     "text": [
      "['https://user-images.githubusercontent.com/14041622/40041663-65775634-5851-11e8-9382-e6de982dc496.png']\n"
     ]
    }
   ],
   "source": [
    "import re\n",
    "s = '![image](https://user-images.githubusercontent.com/14041622/40041663-65775634-5851-11e8-9382-e6de982dc496.png)'\n",
    "\n",
    "pattern = re.compile(r'\\!\\[.+\\]\\((.+)\\)')\n",
    "result = pattern.findall(s)\n",
    "\n",
    "print(result)"
   ]
  },
  {
   "cell_type": "code",
   "execution_count": null,
   "metadata": {},
   "outputs": [],
   "source": []
  },
  {
   "cell_type": "code",
   "execution_count": null,
   "metadata": {},
   "outputs": [],
   "source": []
  },
  {
   "cell_type": "code",
   "execution_count": null,
   "metadata": {},
   "outputs": [],
   "source": []
  },
  {
   "cell_type": "markdown",
   "metadata": {},
   "source": [
    "# JSON数据"
   ]
  },
  {
   "cell_type": "code",
   "execution_count": 16,
   "metadata": {},
   "outputs": [
    {
     "name": "stdout",
     "output_type": "stream",
     "text": [
      "41\n",
      "68\n"
     ]
    }
   ],
   "source": [
    "import json\n",
    "\n",
    "with open('dataset/baidu-ocr-acurate.json', 'r') as f:\n",
    "    data = json.loads(f.read())\n",
    "    results = data['words_result']\n",
    "\n",
    "line = results[0]\n",
    "words = line['words']\n",
    "loc_block = line['min_finegrained_vertexes_location']\n",
    "loc_chars = line['finegrained_vertexes_location']\n",
    "\n",
    "print(len(words))\n",
    "print(len(loc_chars))"
   ]
  },
  {
   "cell_type": "markdown",
   "metadata": {},
   "source": [
    "## JSON对象的对比和运算"
   ]
  },
  {
   "cell_type": "code",
   "execution_count": 19,
   "metadata": {},
   "outputs": [
    {
     "data": {
      "text/plain": [
       "[{'d': '5', 'e': '6', 'f': '7', 'g': '8'}]"
      ]
     },
     "execution_count": 19,
     "metadata": {},
     "output_type": "execute_result"
    }
   ],
   "source": [
    "j1 = {\"a\":\"1\",\"b\":\"2\",\"c\":\"3\",\"d\":\"4\"}\n",
    "j2 = {\"d\":\"5\",\"e\":\"6\",\"f\":\"7\",\"g\":\"8\"}\n",
    "arr = [j1,j2]\n",
    "\n",
    "arr.remove(j1)\n",
    "arr"
   ]
  },
  {
   "cell_type": "markdown",
   "metadata": {},
   "source": [
    "## 不同类型的字符串list列表join()后出来的字符串格式"
   ]
  },
  {
   "cell_type": "code",
   "execution_count": null,
   "metadata": {},
   "outputs": [],
   "source": [
    "s1 = '\\n'.join( ['你好','世界'] )\n",
    "s1, type(s1)"
   ]
  },
  {
   "cell_type": "code",
   "execution_count": null,
   "metadata": {},
   "outputs": [],
   "source": [
    "s2 = '\\n'.join( [u'你好',u'世界'] )\n",
    "s2, type(s2)"
   ]
  },
  {
   "cell_type": "code",
   "execution_count": null,
   "metadata": {},
   "outputs": [],
   "source": [
    "s3 = '\\n'.join( [u'你好','世界'] )\n",
    "s3, type(s3)"
   ]
  },
  {
   "cell_type": "code",
   "execution_count": null,
   "metadata": {},
   "outputs": [],
   "source": []
  },
  {
   "cell_type": "code",
   "execution_count": null,
   "metadata": {},
   "outputs": [],
   "source": []
  },
  {
   "cell_type": "code",
   "execution_count": null,
   "metadata": {},
   "outputs": [],
   "source": []
  },
  {
   "cell_type": "markdown",
   "metadata": {},
   "source": [
    "# Exception 异常捕获"
   ]
  },
  {
   "cell_type": "code",
   "execution_count": null,
   "metadata": {},
   "outputs": [],
   "source": [
    "try:\n",
    "    hello('hi')    # there's no such thing as hello()\n",
    "except:\n",
    "    print 'something wrong.'"
   ]
  },
  {
   "cell_type": "code",
   "execution_count": null,
   "metadata": {},
   "outputs": [],
   "source": [
    "try:\n",
    "    hello('hi')\n",
    "except Exception as e:     # try to catch the error and print\n",
    "    print str(e), '\\n'\n",
    "    \n",
    "    print 'e.message:\\n' + e.message"
   ]
  },
  {
   "cell_type": "code",
   "execution_count": null,
   "metadata": {},
   "outputs": [],
   "source": [
    "try:\n",
    "    hello('hi')\n",
    "except:\n",
    "    pass          # does anything run after \"pass\"? yes\n",
    "    print 'something wrong.'"
   ]
  },
  {
   "cell_type": "code",
   "execution_count": null,
   "metadata": {},
   "outputs": [],
   "source": [
    "i=0\n",
    "j=0\n",
    "while i < 10: \n",
    "    try:\n",
    "        i+=1\n",
    "        hello('hi')\n",
    "        j+=1\n",
    "    except:\n",
    "        continue    # continue loop works\n",
    "\n",
    "print i, j"
   ]
  },
  {
   "cell_type": "code",
   "execution_count": null,
   "metadata": {},
   "outputs": [],
   "source": []
  },
  {
   "cell_type": "code",
   "execution_count": null,
   "metadata": {},
   "outputs": [],
   "source": []
  },
  {
   "cell_type": "code",
   "execution_count": null,
   "metadata": {},
   "outputs": [],
   "source": []
  },
  {
   "cell_type": "markdown",
   "metadata": {},
   "source": [
    "# Python sys 系统参数"
   ]
  },
  {
   "cell_type": "markdown",
   "metadata": {},
   "source": [
    "## 获取脚本参数"
   ]
  },
  {
   "cell_type": "code",
   "execution_count": null,
   "metadata": {},
   "outputs": [],
   "source": [
    "import sys\n",
    "\n",
    "# 输出文件名\n",
    "print sys.argv\n",
    "\n",
    "# 输出第一个参数: 文件路径\n",
    "print sys.argv[1]"
   ]
  },
  {
   "cell_type": "markdown",
   "metadata": {},
   "source": [
    "## 执行命令行获取输出内容"
   ]
  },
  {
   "cell_type": "code",
   "execution_count": null,
   "metadata": {},
   "outputs": [],
   "source": [
    "# 方法一：subprocess\n",
    "import subprocess\n",
    "\n",
    "p = subprocess.Popen(['git', 'push'], stdout=subprocess.PIPE,\n",
    "                                      stderr=subprocess.PIPE)\n",
    "out, err = p.communicate()\n",
    "\n",
    "print out\n",
    "print err\n",
    "# 结论：完全可以捕捉stdout和stderr"
   ]
  },
  {
   "cell_type": "code",
   "execution_count": null,
   "metadata": {},
   "outputs": [],
   "source": [
    "# 方法二：os.popen()\n",
    "import os\n",
    "\n",
    "with os.popen('git status') as p:\n",
    "    print p.read()\n",
    "\n",
    "# 结论：只能捕捉到stdout"
   ]
  },
  {
   "cell_type": "code",
   "execution_count": null,
   "metadata": {},
   "outputs": [],
   "source": [
    "# 方法二：os.popen()取巧\n",
    "import os\n",
    "\n",
    "with os.popen('git push 2>&1') as p:\n",
    "    print p.read()\n",
    "\n",
    "# 结论：由于2>&1合流，就可以同时捕捉到stdout和stderr了"
   ]
  },
  {
   "cell_type": "code",
   "execution_count": null,
   "metadata": {},
   "outputs": [],
   "source": []
  },
  {
   "cell_type": "code",
   "execution_count": null,
   "metadata": {},
   "outputs": [],
   "source": []
  },
  {
   "cell_type": "code",
   "execution_count": null,
   "metadata": {},
   "outputs": [],
   "source": []
  },
  {
   "cell_type": "markdown",
   "metadata": {},
   "source": [
    "# Python转图片为Base64编码"
   ]
  },
  {
   "cell_type": "code",
   "execution_count": 3,
   "metadata": {},
   "outputs": [
    {
     "name": "stdout",
     "output_type": "stream",
     "text": [
      "b'iVBORw0KGgoAAAANSUhE'\n"
     ]
    }
   ],
   "source": [
    "import base64\n",
    "\n",
    "with open('dataset/pic.png', 'rb') as f:\n",
    "    pic = f.read()\n",
    "\n",
    "output = base64.b64encode(pic)\n",
    "\n",
    "print(output[:20])"
   ]
  },
  {
   "cell_type": "code",
   "execution_count": null,
   "metadata": {},
   "outputs": [],
   "source": [
    "# 最简单的日志记录\n",
    "import logging\n",
    "\n",
    "logging.info(\"打印信息\")\n",
    "logging.error(\"出现了错误\")\n",
    "logging.warning(\"警告信息\")\n",
    "\n",
    "# 低于warning等级的info被忽略了"
   ]
  },
  {
   "cell_type": "code",
   "execution_count": null,
   "metadata": {},
   "outputs": [],
   "source": [
    "# 设置日志的等级（控制哪种信息会被记录）\n",
    "import logging\n",
    " \n",
    "logging.basicConfig(level=logging.INFO)\n",
    "logging.info(\"打印信息\")\n",
    "logging.error(\"出现了错误\")\n",
    "logging.warning(\"警告信息\")\n",
    "\n",
    "# 不低于Info等级的信息都被记录了(Jupyter的问题没有显示出来)"
   ]
  },
  {
   "cell_type": "code",
   "execution_count": null,
   "metadata": {},
   "outputs": [],
   "source": [
    "# 保持到文件的日志记录\n",
    "import logging\n",
    " \n",
    "logging.basicConfig(level=logging.INFO,filename='test.log')\n",
    "logging.error(\"出现了错误\")\n",
    "logging.info(\"打印信息\")\n",
    "logging.warning(\"警告信息\")\n",
    "\n",
    "# 文件被保存到了test.log文件 (Jupyter的问题没有显示出来)\n",
    "!cat test.log"
   ]
  },
  {
   "cell_type": "code",
   "execution_count": null,
   "metadata": {},
   "outputs": [],
   "source": [
    "import logging\n",
    "\n",
    "logging.basicConfig(level=logging.INFO)\n",
    "\n",
    "logger = logging.getLogger('example')\n",
    "\n",
    "logger.error(\"出现了错误\")\n",
    "logger.info(\"打印信息\")\n",
    "logger.warning(\"警告信息\")"
   ]
  },
  {
   "cell_type": "code",
   "execution_count": null,
   "metadata": {},
   "outputs": [],
   "source": []
  },
  {
   "cell_type": "code",
   "execution_count": null,
   "metadata": {},
   "outputs": [],
   "source": []
  },
  {
   "cell_type": "code",
   "execution_count": null,
   "metadata": {},
   "outputs": [],
   "source": []
  },
  {
   "cell_type": "code",
   "execution_count": null,
   "metadata": {},
   "outputs": [],
   "source": []
  },
  {
   "cell_type": "markdown",
   "metadata": {},
   "source": [
    "# Python Logging 日志记录"
   ]
  },
  {
   "cell_type": "code",
   "execution_count": null,
   "metadata": {},
   "outputs": [],
   "source": []
  },
  {
   "cell_type": "code",
   "execution_count": null,
   "metadata": {},
   "outputs": [],
   "source": []
  },
  {
   "cell_type": "code",
   "execution_count": null,
   "metadata": {},
   "outputs": [],
   "source": []
  },
  {
   "cell_type": "code",
   "execution_count": null,
   "metadata": {},
   "outputs": [],
   "source": []
  },
  {
   "cell_type": "markdown",
   "metadata": {},
   "source": [
    "# Python操作图片 PIL & Pillow"
   ]
  },
  {
   "cell_type": "markdown",
   "metadata": {},
   "source": [
    "## 在图片上画框"
   ]
  },
  {
   "cell_type": "code",
   "execution_count": 1,
   "metadata": {},
   "outputs": [
    {
     "name": "stdout",
     "output_type": "stream",
     "text": [
      "OK.\n"
     ]
    }
   ],
   "source": [
    "from PIL import Image, ImageDraw\n",
    "\n",
    "im = Image.open('./dataset/pic2.jpg')\n",
    "draw = ImageDraw.Draw(im)\n",
    "\n",
    "# start position\n",
    "x, y = 1615, 739\n",
    "\n",
    "# box dimensions\n",
    "width, height = 2610, 92\n",
    "\n",
    "line = 20\n",
    "\n",
    "for i in range(1, line + 1):\n",
    "    draw.rectangle((x +(line-i), y+(line-i), x+width+i, y+height+i), outline='red')\n",
    "\n",
    "im.save(\"./dataset/pic2-drawed.jpg\")\n",
    "print('OK.')"
   ]
  },
  {
   "cell_type": "code",
   "execution_count": null,
   "metadata": {},
   "outputs": [],
   "source": []
  },
  {
   "cell_type": "code",
   "execution_count": null,
   "metadata": {},
   "outputs": [],
   "source": []
  },
  {
   "cell_type": "code",
   "execution_count": null,
   "metadata": {},
   "outputs": [],
   "source": []
  },
  {
   "cell_type": "markdown",
   "metadata": {},
   "source": [
    "# 文件路径操作 Path operation"
   ]
  },
  {
   "cell_type": "code",
   "execution_count": 1,
   "metadata": {},
   "outputs": [],
   "source": [
    "from os import path\n",
    "\n",
    "s1 = '/Users/me/movie'"
   ]
  },
  {
   "cell_type": "code",
   "execution_count": 2,
   "metadata": {},
   "outputs": [
    {
     "data": {
      "text/plain": [
       "'/Users/me/movie'"
      ]
     },
     "execution_count": 2,
     "metadata": {},
     "output_type": "execute_result"
    }
   ],
   "source": [
    "path.realpath(s1)"
   ]
  },
  {
   "cell_type": "code",
   "execution_count": 3,
   "metadata": {},
   "outputs": [
    {
     "data": {
      "text/plain": [
       "'movie'"
      ]
     },
     "execution_count": 3,
     "metadata": {},
     "output_type": "execute_result"
    }
   ],
   "source": [
    "path.basename(s1)"
   ]
  },
  {
   "cell_type": "code",
   "execution_count": 4,
   "metadata": {},
   "outputs": [
    {
     "data": {
      "text/plain": [
       "'/Users/me'"
      ]
     },
     "execution_count": 4,
     "metadata": {},
     "output_type": "execute_result"
    }
   ],
   "source": [
    "path.dirname(s1)"
   ]
  },
  {
   "cell_type": "code",
   "execution_count": 5,
   "metadata": {},
   "outputs": [],
   "source": [
    "# It's so different with a / at the end\n",
    "s2 = '/Users/me/movie/'"
   ]
  },
  {
   "cell_type": "code",
   "execution_count": 6,
   "metadata": {},
   "outputs": [
    {
     "data": {
      "text/plain": [
       "'/Users/me/movie'"
      ]
     },
     "execution_count": 6,
     "metadata": {},
     "output_type": "execute_result"
    }
   ],
   "source": [
    "path.realpath(s2)"
   ]
  },
  {
   "cell_type": "code",
   "execution_count": 7,
   "metadata": {},
   "outputs": [
    {
     "data": {
      "text/plain": [
       "''"
      ]
     },
     "execution_count": 7,
     "metadata": {},
     "output_type": "execute_result"
    }
   ],
   "source": [
    "path.basename(s2)"
   ]
  },
  {
   "cell_type": "code",
   "execution_count": 8,
   "metadata": {},
   "outputs": [
    {
     "data": {
      "text/plain": [
       "'/Users/me/movie'"
      ]
     },
     "execution_count": 8,
     "metadata": {},
     "output_type": "execute_result"
    }
   ],
   "source": [
    "path.dirname(s2)"
   ]
  },
  {
   "cell_type": "code",
   "execution_count": 9,
   "metadata": {},
   "outputs": [],
   "source": [
    "# Now let's try files"
   ]
  },
  {
   "cell_type": "code",
   "execution_count": 10,
   "metadata": {},
   "outputs": [],
   "source": [
    "s3 = '/Users/me/movie/abc.mp4'"
   ]
  },
  {
   "cell_type": "code",
   "execution_count": 11,
   "metadata": {},
   "outputs": [
    {
     "data": {
      "text/plain": [
       "'abc.mp4'"
      ]
     },
     "execution_count": 11,
     "metadata": {},
     "output_type": "execute_result"
    }
   ],
   "source": [
    "path.basename(s3)"
   ]
  },
  {
   "cell_type": "code",
   "execution_count": 12,
   "metadata": {},
   "outputs": [
    {
     "data": {
      "text/plain": [
       "('/Users/me/movie/abc', '.mp4')"
      ]
     },
     "execution_count": 12,
     "metadata": {},
     "output_type": "execute_result"
    }
   ],
   "source": [
    "path.splitext(s3)"
   ]
  },
  {
   "cell_type": "code",
   "execution_count": 13,
   "metadata": {},
   "outputs": [
    {
     "data": {
      "text/plain": [
       "'abc'"
      ]
     },
     "execution_count": 13,
     "metadata": {},
     "output_type": "execute_result"
    }
   ],
   "source": [
    "# get file name without filetype\n",
    "path.basename(path.splitext(s3)[0])"
   ]
  },
  {
   "cell_type": "markdown",
   "metadata": {},
   "source": [
    "## 获取当前脚本目录"
   ]
  },
  {
   "cell_type": "code",
   "execution_count": null,
   "metadata": {},
   "outputs": [],
   "source": [
    "import os\n",
    "import sys\n",
    "\n",
    "print os.getcwd()                     # 返回执行当前文件的命令行工作区\n",
    "\n",
    "print sys.argv[0]                     # 返回当前脚本完整路径，比`__file__`可靠\n",
    "\n",
    "print os.path.dirname(sys.argv[0])    # 返回当前脚本所在目录"
   ]
  },
  {
   "cell_type": "code",
   "execution_count": null,
   "metadata": {},
   "outputs": [],
   "source": []
  },
  {
   "cell_type": "code",
   "execution_count": null,
   "metadata": {},
   "outputs": [],
   "source": []
  },
  {
   "cell_type": "code",
   "execution_count": null,
   "metadata": {},
   "outputs": [],
   "source": []
  },
  {
   "cell_type": "markdown",
   "metadata": {},
   "source": [
    "# Python Sending Email 发送邮件 "
   ]
  },
  {
   "cell_type": "markdown",
   "metadata": {},
   "source": [
    "## Sending Email with HTML format"
   ]
  },
  {
   "cell_type": "code",
   "execution_count": null,
   "metadata": {},
   "outputs": [],
   "source": [
    "import smtplib\n",
    "from email.mime.text import MIMEText\n",
    "\n",
    "# Settings of sender's server\n",
    "host = 'smtp.aliyun.com'\n",
    "sender = 'solomonxie@aliyun.com'\n",
    "user = 'solomonxie@aliyun.com'\n",
    "password = input('Please type your password: ')\n",
    "to = ['solomonxie@outlook.com']\n",
    "\n",
    "# Content of email\n",
    "subject = 'Python send html email test'\n",
    "with open('./dataset/out.html', 'r') as f:\n",
    "    content = f.read()\n",
    "\n",
    "# Settings of the email string\n",
    "email = MIMEText(content,'html','utf-8')\n",
    "email['Subject'] = subject\n",
    "email['From'] = sender\n",
    "email['To'] = to[0]\n",
    "msg = email.as_string()\n",
    "\n",
    "# Login the sender's server\n",
    "print('Logging with server...')\n",
    "smtpObj = smtplib.SMTP() \n",
    "smtpObj.connect(host, 25)\n",
    "smtpObj.login(user, password)\n",
    "print('Login successful.')\n",
    "\n",
    "# Send email\n",
    "smtpObj.sendmail(sender, to, msg) \n",
    "smtpObj.quit() \n",
    "print('Email has been sent')"
   ]
  },
  {
   "cell_type": "markdown",
   "metadata": {},
   "source": [
    "## Sending email with attachments"
   ]
  },
  {
   "cell_type": "code",
   "execution_count": null,
   "metadata": {},
   "outputs": [],
   "source": [
    "import smtplib\n",
    "from email.mime.text import MIMEText\n",
    "from email.mime.multipart import MIMEMultipart\n",
    "from email.mime.image import MIMEImage\n",
    "\n",
    "# Settings of sender's server\n",
    "host = 'smtp.aliyun.com'\n",
    "sender = 'solomonxie@aliyun.com'\n",
    "user = 'solomonxie@aliyun.com'\n",
    "password = input('Please type your password: ')\n",
    "to = ['solomonxie@outlook.com']\n",
    "\n",
    "# Make content of email\n",
    "subject = 'Python send email with attachments'\n",
    "with open('./dataset/out.html', 'r') as f:\n",
    "    content = MIMEText(f.read(),'html','utf-8')\n",
    "    content['Content-Type'] = 'text/html'\n",
    "    print('Loaded content.')\n",
    "\n",
    "# Make txt attachment\n",
    "with open('./dataset/in.md', 'r') as f:\n",
    "    txt = MIMEText(f.read(),'plain','utf-8')\n",
    "    txt['Content-Type'] = 'application/octet-stream'\n",
    "    txt['Content-Disposition'] = 'attachment;filename=\"in.md\"'\n",
    "    print('Loaded txt attachment file.')\n",
    "\n",
    "# Make image attachment\n",
    "with open('./dataset/pic.png', 'rb') as f:\n",
    "    img = MIMEImage(f.read())\n",
    "    img['Content-Type'] = 'application/octet-stream'\n",
    "    img['Content-Disposition'] = 'attachment;filename=\"pic.png\"'\n",
    "    print('Loaded image attachment file.')\n",
    "\n",
    "# Attach content & attachments to email\n",
    "email = MIMEMultipart()\n",
    "email.attach(content)\n",
    "email.attach(txt)\n",
    "email.attach(img)\n",
    "\n",
    "# Settings of the email string\n",
    "email['Subject'] = subject\n",
    "email['From'] = sender\n",
    "email['To'] = to[0]\n",
    "msg = email.as_string()\n",
    "\n",
    "# Login the sender's server\n",
    "print('Logging with server...')\n",
    "smtpObj = smtplib.SMTP() \n",
    "smtpObj.connect(host, 25)\n",
    "smtpObj.login(user, password)\n",
    "print('Login successful.')\n",
    "\n",
    "# Send email\n",
    "smtpObj.sendmail(sender, to, msg) \n",
    "smtpObj.quit() \n",
    "print('Email has been sent')"
   ]
  },
  {
   "cell_type": "markdown",
   "metadata": {},
   "source": [
    "## Receive email (POP3)"
   ]
  },
  {
   "cell_type": "code",
   "execution_count": null,
   "metadata": {},
   "outputs": [],
   "source": [
    "import poplib\n",
    "\n",
    "host = 'pop3.sina.com'\n",
    "port_ssl = 993\n",
    "email = 'xie_xiaobo_vip@sina.com'\n",
    "password = input('Please type your password: ')\n",
    "\n",
    "# Make instance of an email server\n",
    "server = poplib.POP3_SSL(host, port_ssl)\n",
    "server.set_debuglevel(2)\n",
    "\n",
    "print(server.getwelcome())\n",
    "\n",
    "# Log in\n",
    "server.user(email)\n",
    "server.pass_(password)"
   ]
  },
  {
   "cell_type": "markdown",
   "metadata": {},
   "source": [
    "## Receive Email (IMAP)"
   ]
  },
  {
   "cell_type": "code",
   "execution_count": null,
   "metadata": {},
   "outputs": [],
   "source": [
    "import imaplib\n",
    "import email\n",
    "\n",
    "host = 'pop3.sina.com'\n",
    "port_ssl = '993'\n",
    "addr = 'xie_xiaobo_vip@sina.com'\n",
    "password = input('Please type your password: ')\n",
    "\n",
    "server = imaplib.IMAP4_SSL(port=port_ssl,host=host)\n",
    "print('Connected with server.')\n",
    "\n",
    "server.login(addr, password)\n",
    "print('Logged in server.')"
   ]
  },
  {
   "cell_type": "code",
   "execution_count": null,
   "metadata": {},
   "outputs": [],
   "source": [
    "# Choose a Folder on server to download\n",
    "status, data = server.select('INBOX')\n",
    "print(status)\n",
    "print(data)\n",
    "\n",
    "status, data = server.search(None, 'ALL')\n",
    "print(status)\n",
    "print(data)\n",
    "\n",
    "indeces = data[0].split()\n",
    "print('Count of mails: %s'% len(indeces))\n",
    "\n",
    "# resp, mails = server.fetch (indeces[len(indeces)-1],'(RFC822)')\n",
    "\n",
    "for n in indeces:\n",
    "    resp, mails = server.fetch(n, '(RFC822)')\n",
    "    for m_string in mails[0]:\n",
    "        mail = email.message_from_bytes(m_string)\n",
    "        \n",
    "        for part in mail.walk():\n",
    "            print(part.get_content_maintype())\n",
    "            print(part.get('Content-Disposition'))\n",
    "            print(part.get_filename())\n",
    "\n",
    "# Parse mail strings\n",
    "\n",
    "\n",
    "# Quit\n",
    "#server.logout()"
   ]
  },
  {
   "cell_type": "code",
   "execution_count": null,
   "metadata": {},
   "outputs": [],
   "source": []
  },
  {
   "cell_type": "code",
   "execution_count": null,
   "metadata": {},
   "outputs": [],
   "source": []
  },
  {
   "cell_type": "code",
   "execution_count": null,
   "metadata": {},
   "outputs": [],
   "source": []
  },
  {
   "cell_type": "markdown",
   "metadata": {},
   "source": [
    "# Python Convert Markdown to HTML 格式转换"
   ]
  },
  {
   "cell_type": "code",
   "execution_count": null,
   "metadata": {},
   "outputs": [],
   "source": [
    "import markdown\n",
    "\n",
    "# convert from markdown string\n",
    "#html = markdown.markdown('# Title', extensions=['markdown.extensions.extra'])\n",
    "\n",
    "# Convert from .md file\n",
    "html = markdown.markdownFromFile('./dataset/in.md', extensions=['markdown.extensions.extra'], output_format='html5')\n",
    "print(html)"
   ]
  },
  {
   "cell_type": "code",
   "execution_count": null,
   "metadata": {},
   "outputs": [],
   "source": []
  },
  {
   "cell_type": "code",
   "execution_count": null,
   "metadata": {},
   "outputs": [],
   "source": []
  },
  {
   "cell_type": "code",
   "execution_count": null,
   "metadata": {},
   "outputs": [],
   "source": []
  },
  {
   "cell_type": "markdown",
   "metadata": {},
   "source": [
    "# Python 操作文件&文件夹"
   ]
  },
  {
   "cell_type": "markdown",
   "metadata": {},
   "source": [
    "## os.mkdir对已有文件夹覆盖情况"
   ]
  },
  {
   "cell_type": "code",
   "execution_count": null,
   "metadata": {},
   "outputs": [],
   "source": [
    "import os\n",
    "folder = './dataset/doc/src'\n",
    "\n",
    "os.mkdir(folder)\n",
    "\n",
    "with open('%s/test.txt'%folder, 'w') as f:\n",
    "    f.write('你好')"
   ]
  },
  {
   "cell_type": "markdown",
   "metadata": {},
   "source": [
    "## shutil打包文件夹"
   ]
  },
  {
   "cell_type": "code",
   "execution_count": null,
   "metadata": {},
   "outputs": [],
   "source": [
    "import shutil\n",
    "shutil.make_archive(\n",
    "        base_name= '/Volumes/SD/Downloads/gitissues2018',\n",
    "        format   = 'zip',\n",
    "        root_dir = '/Volumes/SD/Workspace/autobackup/solomonxie',\n",
    "        base_dir = 'gitissues')"
   ]
  },
  {
   "cell_type": "markdown",
   "metadata": {},
   "source": [
    "## os.walk遍历文件及文件夹"
   ]
  },
  {
   "cell_type": "code",
   "execution_count": 4,
   "metadata": {
    "scrolled": true
   },
   "outputs": [
    {
     "name": "stdout",
     "output_type": "stream",
     "text": [
      "./dataset/ ['heibanke-crawler-quiz-lesson4-password-list_files']\n",
      "issues-new.json\n",
      "issues-old.json\n",
      "sample-issue-list.json\n",
      "py3-encoding-error-output.txt\n",
      "py3-encoding-error-input.txt\n",
      "py3-encoding-error-input-2.txt\n",
      "._heibanke-crawler-quiz-lesson4-password-list_files\n",
      "heibanke-crawler-quiz-lesson4-password-list.html\n",
      "._heibanke-crawler-quiz-lesson4-password-list.html\n",
      "in.md\n",
      "pic.png\n",
      "out.html\n",
      "github.css\n",
      "out2.html\n",
      "._pic.jpg\n",
      "._in.md\n",
      "baidu-ocr-acurate.json\n",
      "._baidu-ocr-acurate.json\n",
      "pic.jpg\n",
      "pic2-drawed.jpg\n",
      "pic2.jpg\n",
      "./dataset/heibanke-crawler-quiz-lesson4-password-list_files []\n",
      "bootstrap.min.js\n",
      "._bootstrap.min.js\n",
      "jquery-ui.min.js\n",
      "._jquery-ui.min.js\n",
      "jquery-ui.min.css\n",
      "._jquery-ui.min.css\n",
      "jquery.js\n",
      "._jquery.js\n",
      "d3.min.js\n",
      "._d3.min.js\n",
      "bootstrap.min.css\n",
      "._bootstrap.min.css\n"
     ]
    }
   ],
   "source": [
    "import os\n",
    "folder = './dataset/'\n",
    "\n",
    "for root, subdir, files in os.walk(folder):\n",
    "    print(root, subdir)\n",
    "    for filename in files:\n",
    "        print(filename)\n"
   ]
  },
  {
   "cell_type": "code",
   "execution_count": null,
   "metadata": {},
   "outputs": [],
   "source": [
    "import os\n",
    "folder = './dataset/'\n",
    "\n",
    "# 指定深度范围\n",
    "depth = 1\n",
    "for root, subdir, files in os.walk(folder):\n",
    "    if depth == 3:\n",
    "        break\n",
    "    print(root, subdir)\n",
    "    for filename in files:\n",
    "        print(filename)\n",
    "    \n",
    "    depth += 1\n"
   ]
  },
  {
   "cell_type": "code",
   "execution_count": 9,
   "metadata": {},
   "outputs": [
    {
     "name": "stdout",
     "output_type": "stream",
     "text": [
      "./dataset\r\n",
      "├── baidu-ocr-acurate.json\r\n",
      "├── github.css\r\n",
      "├── heibanke-crawler-quiz-lesson4-password-list.html\r\n",
      "├── heibanke-crawler-quiz-lesson4-password-list_files\r\n",
      "│   ├── bootstrap.min.css\r\n",
      "│   ├── bootstrap.min.js\r\n",
      "│   ├── d3.min.js\r\n",
      "│   ├── jquery-ui.min.css\r\n",
      "│   ├── jquery-ui.min.js\r\n",
      "│   └── jquery.js\r\n",
      "├── in.md\r\n",
      "├── issues-new.json\r\n",
      "├── issues-old.json\r\n",
      "├── out.html\r\n",
      "├── out2.html\r\n",
      "├── pic.jpg\r\n",
      "├── pic.png\r\n",
      "├── pic2-drawed.jpg\r\n",
      "├── pic2.jpg\r\n",
      "├── py3-encoding-error-input-2.txt\r\n",
      "├── py3-encoding-error-input.txt\r\n",
      "├── py3-encoding-error-output.txt\r\n",
      "└── sample-issue-list.json\r\n",
      "\r\n",
      "1 directory, 22 files\r\n"
     ]
    }
   ],
   "source": [
    "!tree ./dataset"
   ]
  },
  {
   "cell_type": "code",
   "execution_count": null,
   "metadata": {},
   "outputs": [],
   "source": []
  },
  {
   "cell_type": "code",
   "execution_count": null,
   "metadata": {},
   "outputs": [],
   "source": []
  },
  {
   "cell_type": "code",
   "execution_count": null,
   "metadata": {},
   "outputs": [],
   "source": []
  },
  {
   "cell_type": "code",
   "execution_count": null,
   "metadata": {},
   "outputs": [],
   "source": []
  },
  {
   "cell_type": "code",
   "execution_count": null,
   "metadata": {},
   "outputs": [],
   "source": []
  },
  {
   "cell_type": "code",
   "execution_count": null,
   "metadata": {},
   "outputs": [],
   "source": []
  },
  {
   "cell_type": "markdown",
   "metadata": {},
   "source": [
    "# Python时间操作"
   ]
  },
  {
   "cell_type": "markdown",
   "metadata": {},
   "source": [
    "## date & time"
   ]
  },
  {
   "cell_type": "code",
   "execution_count": null,
   "metadata": {},
   "outputs": [],
   "source": [
    "from datetime import date\n",
    "# str( date.today() )\n",
    "'%H'%(date.today())"
   ]
  },
  {
   "cell_type": "code",
   "execution_count": null,
   "metadata": {},
   "outputs": [],
   "source": [
    "import time\n",
    "str( time.time() )"
   ]
  },
  {
   "cell_type": "code",
   "execution_count": null,
   "metadata": {},
   "outputs": [],
   "source": []
  },
  {
   "cell_type": "code",
   "execution_count": null,
   "metadata": {},
   "outputs": [],
   "source": []
  },
  {
   "cell_type": "code",
   "execution_count": null,
   "metadata": {},
   "outputs": [],
   "source": []
  },
  {
   "cell_type": "markdown",
   "metadata": {},
   "source": [
    "# Python Git"
   ]
  },
  {
   "cell_type": "code",
   "execution_count": null,
   "metadata": {},
   "outputs": [],
   "source": [
    "# 结论 ipython经常性无法导入外来包 即使已经安装好了且在别的地方可以正确导入\n",
    "import git\n",
    "\n",
    "# 直接用系统命令行执行\n",
    "import os\n",
    "\n",
    "cwd = os.getcwd() # get a path to a git repo, such as: here.\n",
    "\n",
    "# 在别的目录执行git命令，需要加参数`-C <路径>`\n",
    "os.system('git -C %s <> status'%cwd)"
   ]
  },
  {
   "cell_type": "code",
   "execution_count": null,
   "metadata": {},
   "outputs": [],
   "source": []
  },
  {
   "cell_type": "code",
   "execution_count": null,
   "metadata": {},
   "outputs": [],
   "source": []
  },
  {
   "cell_type": "code",
   "execution_count": null,
   "metadata": {},
   "outputs": [],
   "source": []
  },
  {
   "cell_type": "markdown",
   "metadata": {},
   "source": [
    "# Python requests"
   ]
  },
  {
   "cell_type": "markdown",
   "metadata": {},
   "source": [
    "## Python `requests`检查访问状态"
   ]
  },
  {
   "cell_type": "code",
   "execution_count": null,
   "metadata": {},
   "outputs": [],
   "source": [
    "import requests\n",
    "\n",
    "r = requests.get('http://www.baidu.com')\n",
    "\n",
    "r.status_code"
   ]
  },
  {
   "cell_type": "markdown",
   "metadata": {},
   "source": [
    "## Python `requests` 自带返回json数据的中文编码"
   ]
  },
  {
   "cell_type": "code",
   "execution_count": null,
   "metadata": {},
   "outputs": [],
   "source": [
    "import requests, json\n",
    "\n",
    "r = requests.get('https://api.github.com/repos/solomonxie/starter-practice/issues')\n",
    "\n",
    "print type(r.json()[0]['title'])\n",
    "print type(json.loads(r.content)[0]['title'])\n",
    "\n",
    "# 事实证明结果是一样的，所以还是用requests自带的划算"
   ]
  },
  {
   "cell_type": "code",
   "execution_count": null,
   "metadata": {},
   "outputs": [],
   "source": []
  },
  {
   "cell_type": "code",
   "execution_count": null,
   "metadata": {},
   "outputs": [],
   "source": []
  },
  {
   "cell_type": "code",
   "execution_count": null,
   "metadata": {},
   "outputs": [],
   "source": []
  },
  {
   "cell_type": "markdown",
   "metadata": {},
   "source": [
    "# Python3 Encoding Error 乱码处理"
   ]
  },
  {
   "cell_type": "code",
   "execution_count": null,
   "metadata": {},
   "outputs": [],
   "source": [
    "pin = './dataset/py3-encoding-error-input.txt'\n",
    "pout = './dataset/py3-encoding-error-output.txt'\n",
    "\n",
    "with open(pin, 'r', encoding='gbk') as f:\n",
    "    content = f.read()\n",
    "    print(content)\n",
    "    \n",
    "with open(pout, 'w') as f:\n",
    "    f.write(content)\n",
    "\n",
    "    \n",
    "pin = './dataset/py3-encoding-error-input-2.txt'\n",
    "with open(pin, 'r', encoding='utf-8') as f:\n",
    "    content = f.read()\n",
    "    print(content)"
   ]
  },
  {
   "cell_type": "code",
   "execution_count": null,
   "metadata": {},
   "outputs": [],
   "source": [
    "pin = './dataset/py3-encoding-error-input-2.txt'\n",
    "pout = './dataset/py3-encoding-error-output-2.txt'\n",
    "\n",
    "def smart_reading(path):\n",
    "    \"\"\"\n",
    "    Try different encodings\n",
    "    \"\"\"\n",
    "    charsets = ['utf-8', 'gbk','UTF-16LE']\n",
    "\n",
    "    for enc in charsets:\n",
    "        try:\n",
    "            with open(path, 'r', encoding=enc) as f:\n",
    "                return f.read()\n",
    "        except UnicodeDecodeError:\n",
    "            print('Failed loading with encoding [%s] for %s.'%(enc, path))\n",
    "            continue\n",
    "\n",
    "    return 'n/a'\n",
    "\n",
    "smart_reading(pin)"
   ]
  },
  {
   "cell_type": "code",
   "execution_count": null,
   "metadata": {},
   "outputs": [],
   "source": []
  },
  {
   "cell_type": "code",
   "execution_count": null,
   "metadata": {},
   "outputs": [],
   "source": []
  },
  {
   "cell_type": "code",
   "execution_count": null,
   "metadata": {},
   "outputs": [],
   "source": []
  },
  {
   "cell_type": "code",
   "execution_count": null,
   "metadata": {},
   "outputs": [],
   "source": []
  }
 ],
 "metadata": {
  "kernelspec": {
   "display_name": "Python 3",
   "language": "python",
   "name": "python3"
  },
  "language_info": {
   "codemirror_mode": {
    "name": "ipython",
    "version": 3
   },
   "file_extension": ".py",
   "mimetype": "text/x-python",
   "name": "python",
   "nbconvert_exporter": "python",
   "pygments_lexer": "ipython3",
   "version": "3.6.5"
  }
 },
 "nbformat": 4,
 "nbformat_minor": 2
}
