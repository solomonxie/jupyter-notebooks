{
 "cells": [
  {
   "cell_type": "markdown",
   "metadata": {},
   "source": [
    "# Convert Markdown file to HTML file"
   ]
  },
  {
   "cell_type": "markdown",
   "metadata": {},
   "source": [
    "# CLI Tool: `pandoc`"
   ]
  },
  {
   "cell_type": "code",
   "execution_count": 18,
   "metadata": {},
   "outputs": [],
   "source": [
    "import os\n",
    "\n",
    "with os.popen('pandoc --template=Github.html5 ./dataset/in.md -o ./dataset/out2.html') as p:\n",
    "    p.read()\n"
   ]
  },
  {
   "cell_type": "code",
   "execution_count": 2,
   "metadata": {},
   "outputs": [
    {
     "name": "stdout",
     "output_type": "stream",
     "text": [
      "[WARNING] This document format requires a nonempty <title> element.\r\n",
      "  Please specify either 'title' or 'pagetitle' in the metadata.\r\n",
      "  Falling back to 'in'\r\n"
     ]
    }
   ],
   "source": [
    "!pandoc --template=Github.html5 ./dataset/in.md -o ./dataset/out2.html"
   ]
  },
  {
   "cell_type": "code",
   "execution_count": null,
   "metadata": {},
   "outputs": [],
   "source": []
  },
  {
   "cell_type": "markdown",
   "metadata": {},
   "source": [
    "# Pythonic way: `python-markdown`"
   ]
  },
  {
   "cell_type": "code",
   "execution_count": 19,
   "metadata": {
    "collapsed": true
   },
   "outputs": [
    {
     "name": "stdout",
     "output_type": "stream",
     "text": [
      "<h1>Linux发送邮件的命令行应用</h1>\n",
      "<blockquote>\n",
      "<p>先说明下：不管是什么邮件客户端，都是可以直接发邮件的。但是，因为默认的话，发件人是很随便地设置成你本机地名字。并且<strong>100%</strong>会被邮箱当成垃圾邮件处理。如果你去垃圾箱里找，还是可以看到的。这就是为什么，我们还是需要配置它，让它登录某个邮箱来使用它的身份发邮件了，比如gmail邮箱或阿里云邮箱。（国内的163和qq邮箱都已经屏蔽第三方客户端登录了）</p>\n",
      "</blockquote>\n",
      "<h2><code>Mutt</code></h2>\n",
      "<blockquote>\n",
      "<p>Mutt是Linux邮箱客户端榜上有名的利器了。</p>\n",
      "</blockquote>\n",
      "<p>先不说什么界面操作之类的，因为我们用命令行的邮箱客户端都是用来自动化的，不想用什么界面。</p>\n",
      "<p><a href=\"http://blog.51cto.com/wzlinux/2043647\">参考：Linux使用mutt发送邮件</a></p>\n",
      "<h3>安装</h3>\n",
      "<p>其中<code>mutt</code>是软件本身，<code>msmtp</code>是用来帮助发件的工具。</p>\n",
      "<pre><code class=\"shell\"># Linux\n",
      "$ sudo apt-get install mutt msmtp\n",
      "\n",
      "# 或Mac\n",
      "$ brew install mutt msmtp\n",
      "</code></pre>\n",
      "\n",
      "<h3>配置</h3>\n",
      "<p>你需要配置两个文件，一个是<code>~/.muttrc</code>用来配置Mutt本身，一个是<code>~/.msmtprc</code>用来配置发件人的，需要写入密码一类的。</p>\n",
      "<p><a href=\"http://coolnull.com/82.html\">参考：Linux下使用mutt,msmtp发信</a></p>\n",
      "<p>配置<code>~/.msmtprc</code>:</p>\n",
      "<pre><code class=\"shell\">account     Aliyun\n",
      "host        smtp.aliyun.com\n",
      "from        jason@aliyun.com\n",
      "auth        login\n",
      "user        jason@aliyun.com\n",
      "password    abcde123123123\n",
      "account default : Aliyun\n",
      "logfile ~/.msmtp.log\n",
      "</code></pre>\n",
      "\n",
      "<p>然后必须修改<code>~/.msmtprc</code>文件的权限，否则程序无法读取，发邮件时会报错。修改如下：</p>\n",
      "<pre><code class=\"shell\">chmod 600 ~/.msmtprc\n",
      "</code></pre>\n",
      "\n",
      "<p>配置<code>~/.muttrc</code>：</p>\n",
      "<pre><code class=\"shell\">set sendmail=&quot;/usr/bin/msmtp&quot;\n",
      "set use_from=yes\n",
      "set realname=&quot;Jason&quot;\n",
      "set from=&quot;Jason@aliyun.com&quot;\n",
      "set envelope_from=yes\n",
      "set editor=&quot;vim -nw&quot;\n",
      "</code></pre>\n",
      "\n",
      "<p>注意：第一条<code>set sendmail</code>中的位置不一定是这样的，在Mac和Linux上都会不同，所以需要用<code>which msmtp</code>来找到它的真实位置，再填进去。</p>\n",
      "<p>关于配置的解释可以看这里：\n",
      "<img alt=\"image\" src=\"https://user-images.githubusercontent.com/14041622/40438772-8415e3da-5eeb-11e8-8733-83b6aadab2b4.png\"></p>\n",
      "<h3>发送邮件命令格式</h3>\n",
      "<p>注意：收件人的地址前一定要明确指定参数名<code>--</code>，如下所示。否则无法正确发送附件。</p>\n",
      "<pre><code class=\"shell\"># 常用格式如下 -s   “标题”  -c    抄送  -a  附件\n",
      "$ echo “HELLO WORLD” | mutt -s “TITLE” -- RECIPIENT@gmail.com\n",
      "\n",
      "# 发送给多人，抄送，添加附件\n",
      "$ echo &quot;hello&quot; | mutt -s &quot;TITLE&quot; aaa@gmail.com, bbb@gmail.com -c ccc@gmail.com -a /home/pi/pic.jpg address=&quot;RECIPIENT@gmail.com&quot;\n",
      "\n",
      "# 发送邮件时设置邮件的文本类型为：html格式，邮件的等级为:重要\n",
      "$ echo $content | mutt  -s &quot;${subject}&quot; -e 'set content_type=&quot;text/html&quot;' -e 'send-hook . &quot;my_hdr  X-Priority: 1&quot;' $address\n",
      "</code></pre>\n",
      "\n",
      "<p>语法：\n",
      "<img alt=\"image\" src=\"https://user-images.githubusercontent.com/14041622/40440006-455fbfa4-5eef-11e8-93b2-3b405e0215fb.png\"></p>\n",
      "<p>参数：\n",
      "<img alt=\"image\" src=\"https://user-images.githubusercontent.com/14041622/40440013-4b1cc57c-5eef-11e8-943b-d2bb7e762fe5.png\"></p>\n",
      "<h2>邮箱配置</h2>\n",
      "<ul>\n",
      "<li><a href=\"https://help.aliyun.com/knowledge_detail/36576.html\">阿里云邮箱</a>\n",
      "  <img alt=\"image\" src=\"https://user-images.githubusercontent.com/14041622/40422684-b1df8542-5ec2-11e8-96e1-8e8ad4045a98.png\"></li>\n",
      "<li>163邮箱\n",
      "  <img alt=\"image\" src=\"https://user-images.githubusercontent.com/14041622/40435788-12ad41ea-5ee4-11e8-838d-4969e6224c92.png\"></li>\n",
      "</ul>\n",
      "<h2>~<code>Mail</code>和<code>Sendmail</code>~</h2>\n",
      "<blockquote>\n",
      "<p>注：Mail的配置相当麻烦，网上找文章也寥寥无几，有也都是十几年前的东西。所以建议放弃，使用更先进的客户端。</p>\n",
      "</blockquote>None\n"
     ]
    }
   ],
   "source": [
    "import markdown\n",
    "\n",
    "# convert from markdown string\n",
    "#html = markdown.markdown('# Title', extensions=['markdown.extensions.extra'])\n",
    "\n",
    "# Convert from .md file\n",
    "html = markdown.markdownFromFile('./dataset/in.md', extensions=['markdown.extensions.extra'], output_format='html5')\n",
    "print(html)"
   ]
  },
  {
   "cell_type": "code",
   "execution_count": null,
   "metadata": {},
   "outputs": [],
   "source": []
  },
  {
   "cell_type": "code",
   "execution_count": null,
   "metadata": {},
   "outputs": [],
   "source": []
  },
  {
   "cell_type": "code",
   "execution_count": null,
   "metadata": {},
   "outputs": [],
   "source": []
  },
  {
   "cell_type": "code",
   "execution_count": null,
   "metadata": {},
   "outputs": [],
   "source": []
  },
  {
   "cell_type": "code",
   "execution_count": null,
   "metadata": {},
   "outputs": [],
   "source": []
  },
  {
   "cell_type": "code",
   "execution_count": null,
   "metadata": {},
   "outputs": [],
   "source": []
  },
  {
   "cell_type": "code",
   "execution_count": null,
   "metadata": {},
   "outputs": [],
   "source": []
  }
 ],
 "metadata": {
  "kernelspec": {
   "display_name": "Python 3",
   "language": "python",
   "name": "python3"
  },
  "language_info": {
   "codemirror_mode": {
    "name": "ipython",
    "version": 3
   },
   "file_extension": ".py",
   "mimetype": "text/x-python",
   "name": "python",
   "nbconvert_exporter": "python",
   "pygments_lexer": "ipython3",
   "version": "3.6.5"
  }
 },
 "nbformat": 4,
 "nbformat_minor": 2
}
