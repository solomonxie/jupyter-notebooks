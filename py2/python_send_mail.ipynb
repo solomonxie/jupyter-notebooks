{
 "cells": [
  {
   "cell_type": "markdown",
   "metadata": {},
   "source": [
    "# Send Email"
   ]
  },
  {
   "cell_type": "markdown",
   "metadata": {},
   "source": [
    "## Send an HTML format email"
   ]
  },
  {
   "cell_type": "code",
   "execution_count": 10,
   "metadata": {},
   "outputs": [
    {
     "name": "stdout",
     "output_type": "stream",
     "text": [
      "Logging with server...\n",
      "Login successful.\n",
      "Email has been sent\n"
     ]
    }
   ],
   "source": [
    "import smtplib\n",
    "from email.mime.text import MIMEText\n",
    "\n",
    "# Settings of sender's server\n",
    "host = 'smtp.aliyun.com'\n",
    "sender = 'solomonxie@aliyun.com'\n",
    "user = 'solomonxie@aliyun.com'\n",
    "password = input('Please type your password: ')\n",
    "to = ['solomonxie@outlook.com']\n",
    "\n",
    "# Content of email\n",
    "subject = 'Python send html email test'\n",
    "with open('./dataset/out.html', 'r') as f:\n",
    "    content = f.read()\n",
    "\n",
    "# Settings of the email string\n",
    "email = MIMEText(content,'html','utf-8')\n",
    "email['Subject'] = subject\n",
    "email['From'] = sender\n",
    "email['To'] = to[0]\n",
    "msg = email.as_string()\n",
    "\n",
    "# Login the sender's server\n",
    "print('Logging with server...')\n",
    "smtpObj = smtplib.SMTP() \n",
    "smtpObj.connect(host, 25)\n",
    "smtpObj.login(user, password)\n",
    "print('Login successful.')\n",
    "\n",
    "# Send email\n",
    "smtpObj.sendmail(sender, to, msg) \n",
    "smtpObj.quit() \n",
    "print('Email has been sent')"
   ]
  },
  {
   "cell_type": "markdown",
   "metadata": {},
   "source": [
    "## Send an Email with attachments"
   ]
  },
  {
   "cell_type": "code",
   "execution_count": 14,
   "metadata": {},
   "outputs": [
    {
     "name": "stdout",
     "output_type": "stream",
     "text": [
      "Please type your password: xiaobo886\n",
      "Loaded content.\n",
      "Loaded txt attachment file.\n",
      "Loaded image attachment file.\n",
      "Logging with server...\n",
      "Login successful.\n",
      "Email has been sent\n"
     ]
    }
   ],
   "source": [
    "import smtplib\n",
    "from email.mime.text import MIMEText\n",
    "from email.mime.multipart import MIMEMultipart\n",
    "from email.mime.image import MIMEImage\n",
    "\n",
    "# Settings of sender's server\n",
    "host = 'smtp.aliyun.com'\n",
    "sender = 'solomonxie@aliyun.com'\n",
    "user = 'solomonxie@aliyun.com'\n",
    "password = input('Please type your password: ')\n",
    "to = ['solomonxie@outlook.com']\n",
    "\n",
    "# Make content of email\n",
    "subject = 'Python send email with attachments'\n",
    "with open('./dataset/out.html', 'r') as f:\n",
    "    content = MIMEText(f.read(),'html','utf-8')\n",
    "    content['Content-Type'] = 'text/html'\n",
    "    print('Loaded content.')\n",
    "\n",
    "# Make txt attachment\n",
    "with open('./dataset/in.md', 'r') as f:\n",
    "    txt = MIMEText(f.read(),'plain','utf-8')\n",
    "    txt['Content-Type'] = 'application/octet-stream'\n",
    "    txt['Content-Disposition'] = 'attachment;filename=\"in.md\"'\n",
    "    print('Loaded txt attachment file.')\n",
    "\n",
    "# Make image attachment\n",
    "with open('./dataset/pic.png', 'rb') as f:\n",
    "    img = MIMEImage(f.read())\n",
    "    img['Content-Type'] = 'application/octet-stream'\n",
    "    img['Content-Disposition'] = 'attachment;filename=\"pic.png\"'\n",
    "    print('Loaded image attachment file.')\n",
    "\n",
    "# Attach content & attachments to email\n",
    "email = MIMEMultipart()\n",
    "email.attach(content)\n",
    "email.attach(txt)\n",
    "email.attach(img)\n",
    "\n",
    "# Settings of the email string\n",
    "email['Subject'] = subject\n",
    "email['From'] = sender\n",
    "email['To'] = to[0]\n",
    "msg = email.as_string()\n",
    "\n",
    "# Login the sender's server\n",
    "print('Logging with server...')\n",
    "smtpObj = smtplib.SMTP() \n",
    "smtpObj.connect(host, 25)\n",
    "smtpObj.login(user, password)\n",
    "print('Login successful.')\n",
    "\n",
    "# Send email\n",
    "smtpObj.sendmail(sender, to, msg) \n",
    "smtpObj.quit() \n",
    "print('Email has been sent')"
   ]
  },
  {
   "cell_type": "code",
   "execution_count": null,
   "metadata": {},
   "outputs": [],
   "source": []
  },
  {
   "cell_type": "markdown",
   "metadata": {},
   "source": [
    "## Receive email (POP3)"
   ]
  },
  {
   "cell_type": "code",
   "execution_count": 58,
   "metadata": {},
   "outputs": [
    {
     "name": "stdout",
     "output_type": "stream",
     "text": [
      "Please type your password: xx\n"
     ]
    },
    {
     "ename": "error_proto",
     "evalue": "b'* OK [CAPABILITY IMAP4rev1 ID] sina imapproxy ready'",
     "output_type": "error",
     "traceback": [
      "\u001b[0;31m---------------------------------------------------------------------------\u001b[0m",
      "\u001b[0;31merror_proto\u001b[0m                               Traceback (most recent call last)",
      "\u001b[0;32m<ipython-input-58-bc4f81ff7327>\u001b[0m in \u001b[0;36m<module>\u001b[0;34m()\u001b[0m\n\u001b[1;32m      7\u001b[0m \u001b[0;34m\u001b[0m\u001b[0m\n\u001b[1;32m      8\u001b[0m \u001b[0;31m# Make instance of an email server\u001b[0m\u001b[0;34m\u001b[0m\u001b[0;34m\u001b[0m\u001b[0m\n\u001b[0;32m----> 9\u001b[0;31m \u001b[0mserver\u001b[0m \u001b[0;34m=\u001b[0m \u001b[0mpoplib\u001b[0m\u001b[0;34m.\u001b[0m\u001b[0mPOP3_SSL\u001b[0m\u001b[0;34m(\u001b[0m\u001b[0mhost\u001b[0m\u001b[0;34m,\u001b[0m \u001b[0mport_ssl\u001b[0m\u001b[0;34m)\u001b[0m\u001b[0;34m\u001b[0m\u001b[0m\n\u001b[0m\u001b[1;32m     10\u001b[0m \u001b[0mserver\u001b[0m\u001b[0;34m.\u001b[0m\u001b[0mset_debuglevel\u001b[0m\u001b[0;34m(\u001b[0m\u001b[0;36m2\u001b[0m\u001b[0;34m)\u001b[0m\u001b[0;34m\u001b[0m\u001b[0m\n\u001b[1;32m     11\u001b[0m \u001b[0;34m\u001b[0m\u001b[0m\n",
      "\u001b[0;32m/usr/local/Cellar/python/3.6.5/Frameworks/Python.framework/Versions/3.6/lib/python3.6/poplib.py\u001b[0m in \u001b[0;36m__init__\u001b[0;34m(self, host, port, keyfile, certfile, timeout, context)\u001b[0m\n\u001b[1;32m    445\u001b[0m                                                      keyfile=keyfile)\n\u001b[1;32m    446\u001b[0m             \u001b[0mself\u001b[0m\u001b[0;34m.\u001b[0m\u001b[0mcontext\u001b[0m \u001b[0;34m=\u001b[0m \u001b[0mcontext\u001b[0m\u001b[0;34m\u001b[0m\u001b[0m\n\u001b[0;32m--> 447\u001b[0;31m             \u001b[0mPOP3\u001b[0m\u001b[0;34m.\u001b[0m\u001b[0m__init__\u001b[0m\u001b[0;34m(\u001b[0m\u001b[0mself\u001b[0m\u001b[0;34m,\u001b[0m \u001b[0mhost\u001b[0m\u001b[0;34m,\u001b[0m \u001b[0mport\u001b[0m\u001b[0;34m,\u001b[0m \u001b[0mtimeout\u001b[0m\u001b[0;34m)\u001b[0m\u001b[0;34m\u001b[0m\u001b[0m\n\u001b[0m\u001b[1;32m    448\u001b[0m \u001b[0;34m\u001b[0m\u001b[0m\n\u001b[1;32m    449\u001b[0m         \u001b[0;32mdef\u001b[0m \u001b[0m_create_socket\u001b[0m\u001b[0;34m(\u001b[0m\u001b[0mself\u001b[0m\u001b[0;34m,\u001b[0m \u001b[0mtimeout\u001b[0m\u001b[0;34m)\u001b[0m\u001b[0;34m:\u001b[0m\u001b[0;34m\u001b[0m\u001b[0m\n",
      "\u001b[0;32m/usr/local/Cellar/python/3.6.5/Frameworks/Python.framework/Versions/3.6/lib/python3.6/poplib.py\u001b[0m in \u001b[0;36m__init__\u001b[0;34m(self, host, port, timeout)\u001b[0m\n\u001b[1;32m    103\u001b[0m         \u001b[0mself\u001b[0m\u001b[0;34m.\u001b[0m\u001b[0mfile\u001b[0m \u001b[0;34m=\u001b[0m \u001b[0mself\u001b[0m\u001b[0;34m.\u001b[0m\u001b[0msock\u001b[0m\u001b[0;34m.\u001b[0m\u001b[0mmakefile\u001b[0m\u001b[0;34m(\u001b[0m\u001b[0;34m'rb'\u001b[0m\u001b[0;34m)\u001b[0m\u001b[0;34m\u001b[0m\u001b[0m\n\u001b[1;32m    104\u001b[0m         \u001b[0mself\u001b[0m\u001b[0;34m.\u001b[0m\u001b[0m_debugging\u001b[0m \u001b[0;34m=\u001b[0m \u001b[0;36m0\u001b[0m\u001b[0;34m\u001b[0m\u001b[0m\n\u001b[0;32m--> 105\u001b[0;31m         \u001b[0mself\u001b[0m\u001b[0;34m.\u001b[0m\u001b[0mwelcome\u001b[0m \u001b[0;34m=\u001b[0m \u001b[0mself\u001b[0m\u001b[0;34m.\u001b[0m\u001b[0m_getresp\u001b[0m\u001b[0;34m(\u001b[0m\u001b[0;34m)\u001b[0m\u001b[0;34m\u001b[0m\u001b[0m\n\u001b[0m\u001b[1;32m    106\u001b[0m \u001b[0;34m\u001b[0m\u001b[0m\n\u001b[1;32m    107\u001b[0m     \u001b[0;32mdef\u001b[0m \u001b[0m_create_socket\u001b[0m\u001b[0;34m(\u001b[0m\u001b[0mself\u001b[0m\u001b[0;34m,\u001b[0m \u001b[0mtimeout\u001b[0m\u001b[0;34m)\u001b[0m\u001b[0;34m:\u001b[0m\u001b[0;34m\u001b[0m\u001b[0m\n",
      "\u001b[0;32m/usr/local/Cellar/python/3.6.5/Frameworks/Python.framework/Versions/3.6/lib/python3.6/poplib.py\u001b[0m in \u001b[0;36m_getresp\u001b[0;34m(self)\u001b[0m\n\u001b[1;32m    150\u001b[0m         \u001b[0;32mif\u001b[0m \u001b[0mself\u001b[0m\u001b[0;34m.\u001b[0m\u001b[0m_debugging\u001b[0m \u001b[0;34m>\u001b[0m \u001b[0;36m1\u001b[0m\u001b[0;34m:\u001b[0m \u001b[0mprint\u001b[0m\u001b[0;34m(\u001b[0m\u001b[0;34m'*resp*'\u001b[0m\u001b[0;34m,\u001b[0m \u001b[0mrepr\u001b[0m\u001b[0;34m(\u001b[0m\u001b[0mresp\u001b[0m\u001b[0;34m)\u001b[0m\u001b[0;34m)\u001b[0m\u001b[0;34m\u001b[0m\u001b[0m\n\u001b[1;32m    151\u001b[0m         \u001b[0;32mif\u001b[0m \u001b[0;32mnot\u001b[0m \u001b[0mresp\u001b[0m\u001b[0;34m.\u001b[0m\u001b[0mstartswith\u001b[0m\u001b[0;34m(\u001b[0m\u001b[0;34mb'+'\u001b[0m\u001b[0;34m)\u001b[0m\u001b[0;34m:\u001b[0m\u001b[0;34m\u001b[0m\u001b[0m\n\u001b[0;32m--> 152\u001b[0;31m             \u001b[0;32mraise\u001b[0m \u001b[0merror_proto\u001b[0m\u001b[0;34m(\u001b[0m\u001b[0mresp\u001b[0m\u001b[0;34m)\u001b[0m\u001b[0;34m\u001b[0m\u001b[0m\n\u001b[0m\u001b[1;32m    153\u001b[0m         \u001b[0;32mreturn\u001b[0m \u001b[0mresp\u001b[0m\u001b[0;34m\u001b[0m\u001b[0m\n\u001b[1;32m    154\u001b[0m \u001b[0;34m\u001b[0m\u001b[0m\n",
      "\u001b[0;31merror_proto\u001b[0m: b'* OK [CAPABILITY IMAP4rev1 ID] sina imapproxy ready'"
     ]
    }
   ],
   "source": [
    "import poplib\n",
    "\n",
    "host = 'pop3.sina.com'\n",
    "port_ssl = 993\n",
    "email = 'xie_xiaobo_vip@sina.com'\n",
    "password = input('Please type your password: ')\n",
    "\n",
    "# Make instance of an email server\n",
    "server = poplib.POP3_SSL(host, port_ssl)\n",
    "server.set_debuglevel(2)\n",
    "\n",
    "print(server.getwelcome())\n",
    "\n",
    "# Log in\n",
    "server.user(email)\n",
    "server.pass_(password)"
   ]
  },
  {
   "cell_type": "code",
   "execution_count": null,
   "metadata": {},
   "outputs": [],
   "source": []
  },
  {
   "cell_type": "markdown",
   "metadata": {},
   "source": [
    "## Receive Email (IMAP)"
   ]
  },
  {
   "cell_type": "code",
   "execution_count": 97,
   "metadata": {},
   "outputs": [
    {
     "name": "stdout",
     "output_type": "stream",
     "text": [
      "Please type your password: chichi\n",
      "Connected with server.\n",
      "Logged in server.\n"
     ]
    }
   ],
   "source": [
    "import imaplib\n",
    "import email\n",
    "\n",
    "host = 'pop3.sina.com'\n",
    "port_ssl = '993'\n",
    "addr = 'xie_xiaobo_vip@sina.com'\n",
    "password = input('Please type your password: ')\n",
    "\n",
    "server = imaplib.IMAP4_SSL(port=port_ssl,host=host)\n",
    "print('Connected with server.')\n",
    "\n",
    "server.login(addr, password)\n",
    "print('Logged in server.')"
   ]
  },
  {
   "cell_type": "code",
   "execution_count": 98,
   "metadata": {},
   "outputs": [
    {
     "name": "stdout",
     "output_type": "stream",
     "text": [
      "OK\n",
      "[b'3']\n",
      "OK\n",
      "[b'1 2 3']\n",
      "Count of mails: 3\n",
      "text\n",
      "None\n",
      "None\n",
      "text\n",
      "None\n",
      "None\n",
      "text\n",
      "None\n",
      "None\n",
      "text\n",
      "None\n",
      "None\n",
      "text\n",
      "None\n",
      "None\n",
      "text\n",
      "None\n",
      "None\n"
     ]
    }
   ],
   "source": [
    "# Choose a Folder on server to download\n",
    "status, data = server.select('INBOX')\n",
    "print(status)\n",
    "print(data)\n",
    "\n",
    "status, data = server.search(None, 'ALL')\n",
    "print(status)\n",
    "print(data)\n",
    "\n",
    "indeces = data[0].split()\n",
    "print('Count of mails: %s'% len(indeces))\n",
    "\n",
    "# resp, mails = server.fetch (indeces[len(indeces)-1],'(RFC822)')\n",
    "\n",
    "for n in indeces:\n",
    "    resp, mails = server.fetch(n, '(RFC822)')\n",
    "    for m_string in mails[0]:\n",
    "        mail = email.message_from_bytes(m_string)\n",
    "        \n",
    "        for part in mail.walk():\n",
    "            print(part.get_content_maintype())\n",
    "            print(part.get('Content-Disposition'))\n",
    "            print(part.get_filename())\n",
    "\n",
    "# Parse mail strings\n",
    "\n",
    "\n",
    "# Quit\n",
    "#server.logout()"
   ]
  },
  {
   "cell_type": "code",
   "execution_count": null,
   "metadata": {},
   "outputs": [],
   "source": []
  }
 ],
 "metadata": {
  "kernelspec": {
   "display_name": "Python 3",
   "language": "python",
   "name": "python3"
  },
  "language_info": {
   "codemirror_mode": {
    "name": "ipython",
    "version": 3
   },
   "file_extension": ".py",
   "mimetype": "text/x-python",
   "name": "python",
   "nbconvert_exporter": "python",
   "pygments_lexer": "ipython3",
   "version": "3.6.5"
  }
 },
 "nbformat": 4,
 "nbformat_minor": 2
}
