{
 "cells": [
  {
   "cell_type": "markdown",
   "metadata": {},
   "source": [
    "# Jupyter 绘图"
   ]
  },
  {
   "cell_type": "code",
   "execution_count": 1,
   "metadata": {},
   "outputs": [
    {
     "data": {
      "image/png": "[encoded data removed]",
      "text/plain": [
       "<matplotlib.figure.Figure at 0x10396f1d0>"
      ]
     },
     "metadata": {},
     "output_type": "display_data"
    }
   ],
   "source": [
    "%matplotlib inline\n",
    "import matplotlib.pyplot as plt\n",
    "\n",
    "x = [-2, 2, -2, 2]\n",
    "y = [-4, 4, 0.5, 2.5]\n",
    "\n",
    "fig = plt.figure()\n",
    "plt.axhline(y=0, c='black')\n",
    "plt.axvline(x=0, c='black')\n",
    "\n",
    "plt.plot(x[:2], y[:2], x[2:], y[2:])\n",
    "\n",
    "plt.draw()\n"
   ]
  },
  {
   "cell_type": "code",
   "execution_count": 14,
   "metadata": {},
   "outputs": [],
   "source": [
    "plt.close(fig)"
   ]
  },
  {
   "cell_type": "code",
   "execution_count": null,
   "metadata": {},
   "outputs": [],
   "source": []
  },
  {
   "cell_type": "markdown",
   "metadata": {},
   "source": [
    "# Jupyter 绘制公式"
   ]
  },
  {
   "cell_type": "markdown",
   "metadata": {},
   "source": [
    "### 写在一行:\n",
    "`$\\begin{cases} x&+2y&+z&=2\\\\ 3x&+8y&+z&=12\\\\ &4y&+z&=2 \\end{cases}$ `\n",
    "\n",
    "### 分几行写:\n",
    "`$\\begin{cases}\n",
    "x&+2y&+z&=2 \\\\ \n",
    "3x&+8y&+z&=12 \\\\ \n",
    "&4y&+z&=2\n",
    "\\end{cases}$`\n",
    "\n",
    "### 效果:\n",
    "$\\begin{cases}\n",
    "x&+2y&+z&=2 \\\\ \n",
    "3x&+8y&+z&=12 \\\\ \n",
    "&4y&+z&=2\n",
    "\\end{cases}$"
   ]
  },
  {
   "cell_type": "code",
   "execution_count": null,
   "metadata": {},
   "outputs": [],
   "source": []
  },
  {
   "cell_type": "code",
   "execution_count": null,
   "metadata": {},
   "outputs": [],
   "source": []
  },
  {
   "cell_type": "markdown",
   "metadata": {},
   "source": [
    "# Draw 2D vectors"
   ]
  },
  {
   "cell_type": "code",
   "execution_count": 1,
   "metadata": {},
   "outputs": [
    {
     "name": "stdout",
     "output_type": "stream",
     "text": [
      "<type 'int'>\n",
      "[0 1 2 3 4]\n",
      "[5 6 7 8 9]\n",
      "[10 11 12 13 14]\n",
      "[15 16 17 18 19]\n",
      "[20 21 22 23 24]\n",
      "0\n",
      "1\n",
      "2\n",
      "3\n",
      "r\n",
      "line : \n",
      " [-5 -4 -3 -2 -1  0  1  2  3  4  5]\n"
     ]
    },
    {
     "data": {
      "image/png": "[encoded data removed]",
      "text/plain": [
       "<matplotlib.figure.Figure at 0x104dd3e10>"
      ]
     },
     "metadata": {},
     "output_type": "display_data"
    }
   ],
   "source": [
    "%matplotlib inline\n",
    "\n",
    "# from now on, I will arrange the vector of 2D\n",
    "\n",
    "import numpy as np\n",
    "import matplotlib.pyplot as plt\n",
    "\n",
    "# if you want to make vec in here, change the following variables \n",
    "\n",
    "# set np.linspace function \n",
    "\n",
    "lineSizePositive = 5\n",
    "lineSizeNegative = -5\n",
    "numberOfSampleOfLine = lineSizePositive * 2 + 1\n",
    "\n",
    "# choose one of {'b', 'g', 'r', 'c', 'm', 'y', 'k', 'w'} as vector color\n",
    "# 'b' : blue, 'g' : green, 'r' : red, 'c' : cyan,\n",
    "# 'm' : meganta, 'y':yellow, 'k' : black, 'w' : whilte from https://matplotlib.org/api/colors_api.html\n",
    "\n",
    "vectors  = {\"StartingPointOfX\" : 0,\"StartingPointOfY\" : 0,\n",
    "            \"SizeOfXvector\" : 1,\"StartingPointOfYvector\" : 2,\n",
    "            \"VectorColor\" : \"r\"}\n",
    "vectors2 = {\"StartingPointOfX\" : 1,\"StartingPointOfY\" : 0,\n",
    "            \"SizeOfXvector\" : 2,\"StartingPointOfYvector\" : 3,\n",
    "            \"VectorColor\" : \"k\"}\n",
    "\n",
    "vectorList = [vectors, vectors2]\n",
    "\n",
    "# if you want to make it better, just use array\n",
    "# you might need the function meshgrid\n",
    "# But In my case, just this function for linear algebra. I think I couldn't need it.\n",
    "x = np.arange(25).reshape(5,5)\n",
    "\n",
    "a = np.array([0,1,2,3, 'r'])\n",
    "\n",
    "print (type(34))\n",
    "for i in x :\n",
    "     print (i)\n",
    "\n",
    "for i in a :\n",
    "     print (i)\n",
    "\n",
    "\n",
    "#for vec in vectorList :\n",
    "#    print (vec[\"StartingPointOfX\"]);\n",
    "\n",
    "def PlotVector(legend=True) :\n",
    "    # Create a figure of size 8x6 inches, 80 dots per inch\n",
    "    fig = plt.figure(figsize=(8, 6), dpi=80)\n",
    "    \n",
    "    # for the origin\n",
    "    #ax = fig.gca()\n",
    "    #ax.scatter([0],[0],color=\"k\",s=100)\n",
    "    \n",
    "    # line size of each axes \n",
    "    line = np.linspace(lineSizeNegative, lineSizePositive, numberOfSampleOfLine, endpoint=True, dtype=\"int\")\n",
    "\n",
    "    # print varialble line\n",
    "    print (\"line : \\n {0}\".format(line))\n",
    "\n",
    "    # Set x limits, * 1.1 just express more space for drawing\n",
    "    xlim = plt.xlim(line.min() * 1.1, line.max() * 1.1)\n",
    "\n",
    "    # print varialble line\n",
    "    #print (\"xlim : \\n {0}\".format(xlim))\n",
    "\n",
    "    # Set x ticks\n",
    "    xticks = plt.xticks(line)\n",
    "\n",
    "    # print varialble line\n",
    "    #print (\"xticks : \\n {0}\".format(xticks))\n",
    "\n",
    "    # Set x limits, * 1.1 just express more space for drawing\n",
    "    ylim = plt.ylim(line.min() * 1.1, line.max() * 1.1)\n",
    "\n",
    "    # print varialble line\n",
    "    #rint (\"ylim : \\n {0}\".format(ylim))\n",
    "\n",
    "    # Set x ticks\n",
    "    yticks = plt.yticks(line)\n",
    "\n",
    "    # print varialble line\n",
    "    #rint (\"yticks : \\n {0}\".format(yticks))\n",
    "\n",
    "    # set label name of x axis\n",
    "    plt.xlabel(\"x axis\")\n",
    "\n",
    "    # set label name of y axis\n",
    "    plt.ylabel(\"y axis\")\n",
    "\n",
    "    # set grid of coordinate to True\n",
    "    plt.grid(linestyle = \"-\")\n",
    "\n",
    "    # choose one of {'b', 'g', 'r', 'c', 'm', 'y', 'k', 'w'} as vector color\n",
    "    # 'b' : blue, 'g' : green, 'r' : red, 'c' : cyan,\n",
    "    # 'm' : meganta, 'y':yellow, 'k' : black, 'w' : whilte from https://matplotlib.org/api/colors_api.html\n",
    "    \n",
    "    for vec in vectorList :\n",
    "        vecs = plt.quiver(vec[\"StartingPointOfX\"], vec[\"StartingPointOfY\"], vec[\"SizeOfXvector\"], vec[\"StartingPointOfYvector\"]\n",
    "                  , angles=\"xy\", scale_units=\"xy\",scale=1, color=vec[\"VectorColor\"]) \n",
    "        #if (legend) :\n",
    "            #plt.legend([\"The origin\",r'$\\vec a$',\"test 2\"])\n",
    "\n",
    "    plt.show()\n",
    "\n",
    "    \n",
    "    \n",
    "PlotVector()   "
   ]
  },
  {
   "cell_type": "code",
   "execution_count": null,
   "metadata": {},
   "outputs": [],
   "source": []
  },
  {
   "cell_type": "code",
   "execution_count": null,
   "metadata": {},
   "outputs": [],
   "source": []
  },
  {
   "cell_type": "markdown",
   "metadata": {},
   "source": [
    "# Draw 3D vectors"
   ]
  },
  {
   "cell_type": "code",
   "execution_count": 4,
   "metadata": {},
   "outputs": [],
   "source": [
    "from matplotlib import pyplot as plt\n",
    "from matplotlib.patches import FancyArrowPatch\n",
    "from mpl_toolkits.mplot3d import proj3d\n",
    "import numpy as np\n",
    "\n",
    "conv2Rad = lambda x : x*np.pi/180\n",
    "\n",
    "class Arrow3D(FancyArrowPatch):\n",
    "    def __init__(self, xs, ys, zs, *args, **kwargs):\n",
    "        FancyArrowPatch.__init__(self, (0,0), (0,0), *args, **kwargs)\n",
    "        self._verts3d = xs, ys, zs\n",
    "\n",
    "    def draw(self, renderer):\n",
    "        xs3d, ys3d, zs3d = self._verts3d\n",
    "        xs, ys, zs = proj3d.proj_transform(xs3d, ys3d, zs3d, renderer.M)\n",
    "        self.set_positions((xs[0],ys[0]),(xs[1],ys[1]))\n",
    "        FancyArrowPatch.draw(self, renderer)\n",
    "\n",
    "def drawVector(fig, pointA, pointB, **kwargs):\n",
    "\tms = kwargs.get('mutation_scale', 20)\n",
    "\tars = kwargs.get('arrowstyle', '-|>')\n",
    "\tlc = kwargs.get('lineColor', 'k')\n",
    "\tpc = kwargs.get('projColor', 'k')\n",
    "\tpointEnable = kwargs.get('pointEnable', True)\n",
    "\tprojOn = kwargs.get('proj', True)\n",
    "\n",
    "\tif pointA.size == 3:\n",
    "\t\txs = [pointA[0], pointB[0]]\n",
    "\t\tys = [pointA[1], pointB[1]]\n",
    "\t\tzs = [pointA[2], pointB[2]]\n",
    "\telse:\n",
    "\t\txs = [pointA[0,3], pointB[0,3]]\n",
    "\t\tys = [pointA[1,3], pointB[1,3]]\n",
    "\t\tzs = [pointA[2,3], pointB[2,3]]\n",
    "\n",
    "\tout = Arrow3D(xs, ys, zs, mutation_scale=ms, arrowstyle=ars, color=lc)\n",
    "\tfig.add_artist(out)\n",
    "\n",
    "\tif pointEnable: fig.scatter(xs[1], ys[1], zs[1], color='k', s=50)\n",
    "\tif projOn==True:\n",
    "\t\tfig.plot(xs, ys, [0, 0], color=pc, linestyle='--')\n",
    "\t\tfig.plot([xs[0], xs[0]], [ys[0], ys[0]], [0, zs[0]], color=pc, linestyle='--')\n",
    "\t\tfig.plot([xs[1], xs[1]], [ys[1], ys[1]], [0, zs[1]], color=pc, linestyle='--')\n",
    "\t\t\n",
    "def drawPointWithAxis(fig, *args, **kwargs):\n",
    "\tms = kwargs.get('mutation_scale', 20)\n",
    "\tars = kwargs.get('arrowstyle', '->')\n",
    "\tpointEnable = kwargs.get('pointEnable', True)\n",
    "\taxisEnable = kwargs.get('axisEnable', True)\n",
    "\n",
    "\tif len(args) == 4:\n",
    "\t\tORG = args[0]\n",
    "\t\that_X = args[1]\n",
    "\t\that_Y = args[2]\n",
    "\t\that_Z = args[3]\n",
    "\t\txs_n = [ORG[0], ORG[0] + hat_X[0]]\n",
    "\t\tys_n = [ORG[1], ORG[1] + hat_X[1]]\n",
    "\t\tzs_n = [ORG[2], ORG[2] + hat_X[2]]\n",
    "\t\txs_o = [ORG[0], ORG[0] + hat_Y[0]]\n",
    "\t\tys_o = [ORG[1], ORG[1] + hat_Y[1]]\n",
    "\t\tzs_o = [ORG[2], ORG[2] + hat_Y[2]]\n",
    "\t\txs_a = [ORG[0], ORG[0] + hat_Z[0]]\n",
    "\t\tys_a = [ORG[1], ORG[1] + hat_Z[1]]\n",
    "\t\tzs_a = [ORG[2], ORG[2] + hat_Z[2]]\n",
    "\telse:\n",
    "\t\ttmp = args[0]\n",
    "\t\tORG = tmp[:3,3:]\n",
    "\t\that_X = tmp[:3,0:1]\n",
    "\t\that_Y = tmp[:3,1:2]\n",
    "\t\that_Z = tmp[:3,2:3]\n",
    "\t\txs_n = [ORG[0, 0], ORG[0, 0] + hat_X[0, 0]]\n",
    "\t\tys_n = [ORG[1, 0], ORG[1, 0] + hat_X[1, 0]]\n",
    "\t\tzs_n = [ORG[2, 0], ORG[2, 0] + hat_X[2, 0]]\n",
    "\t\txs_o = [ORG[0, 0], ORG[0, 0] + hat_Y[0, 0]]\n",
    "\t\tys_o = [ORG[1, 0], ORG[1, 0] + hat_Y[1, 0]]\n",
    "\t\tzs_o = [ORG[2, 0], ORG[2, 0] + hat_Y[2, 0]]\n",
    "\t\txs_a = [ORG[0, 0], ORG[0, 0] + hat_Z[0, 0]]\n",
    "\t\tys_a = [ORG[1, 0], ORG[1, 0] + hat_Z[1, 0]]\n",
    "\t\tzs_a = [ORG[2, 0], ORG[2, 0] + hat_Z[2, 0]]\n",
    "\n",
    "\tif pointEnable: fig.scatter(xs_n[0], ys_n[0], zs_n[0], color='k', s=50)\n",
    "\n",
    "\tif axisEnable:\n",
    "\t\tn = Arrow3D(xs_n, ys_n, zs_n, mutation_scale=ms, arrowstyle=ars, color='r')\n",
    "\t\to = Arrow3D(xs_o, ys_o, zs_o, mutation_scale=ms, arrowstyle=ars, color='g')\n",
    "\t\ta = Arrow3D(xs_a, ys_a, zs_a, mutation_scale=ms, arrowstyle=ars, color='b')\n",
    "\t\tfig.add_artist(n)\n",
    "\t\tfig.add_artist(o)\n",
    "\t\tfig.add_artist(a)\n",
    "\n",
    "def RotX(phi):\n",
    "    return np.array([[1, 0, \t\t\t0],\n",
    "                     [0, np.cos(phi), \t-np.sin(phi)],\n",
    "                     [0, np.sin(phi), \tnp.cos(phi)]])\n",
    "\n",
    "def RotY(theta):\n",
    "    return np.array([[np.cos(theta), \t0, np.sin(theta)],\n",
    "                     [0, \t\t\t\t1, 0],\n",
    "                     [-np.sin(theta), \t0, np.cos(theta)]])\n",
    "\n",
    "def RotZ(psi):\n",
    "    return np.array([[np.cos(psi), \t-np.sin(psi), \t0],\n",
    "                     [np.sin(psi), \tnp.cos(psi), \t0],\n",
    "                     [0, \t\t\t0, \t\t\t\t1]])"
   ]
  },
  {
   "cell_type": "code",
   "execution_count": 6,
   "metadata": {},
   "outputs": [
    {
     "data": {
      "image/png": "[encoded data removed]",
      "text/plain": [
       "<matplotlib.figure.Figure at 0x10501d250>"
      ]
     },
     "metadata": {},
     "output_type": "display_data"
    }
   ],
   "source": [
    "import matplotlib.pyplot as plt\n",
    "from mpl_toolkits.mplot3d import Axes3D\n",
    "import numpy as np\n",
    "\n",
    "soa = np.array([[0, 0, 1, 1, -2, 0], [0, 0, 2, 1, 1, 0],\n",
    "                [0, 0, 3, 2, 1, 0], [0, 0, 4, 0.5, 0.7, 0]])\n",
    "\n",
    "X, Y, Z, U, V, W = zip(*soa)\n",
    "fig = plt.figure()\n",
    "ax = fig.add_subplot(111, projection='3d')\n",
    "ax.quiver(X, Y, Z, U, V, W)\n",
    "ax.set_xlim([-1, 0.5])\n",
    "ax.set_ylim([-1, 1.5])\n",
    "ax.set_zlim([-1, 8])\n",
    "plt.show()"
   ]
  },
  {
   "cell_type": "code",
   "execution_count": null,
   "metadata": {},
   "outputs": [],
   "source": []
  },
  {
   "cell_type": "code",
   "execution_count": null,
   "metadata": {},
   "outputs": [],
   "source": []
  }
 ],
 "metadata": {
  "kernelspec": {
   "display_name": "Python 3",
   "language": "python",
   "name": "python3"
  },
  "language_info": {
   "codemirror_mode": {
    "name": "ipython",
    "version": 3
   },
   "file_extension": ".py",
   "mimetype": "text/x-python",
   "name": "python",
   "nbconvert_exporter": "python",
   "pygments_lexer": "ipython3",
   "version": "3.7.0"
  }
 },
 "nbformat": 4,
 "nbformat_minor": 2
}
