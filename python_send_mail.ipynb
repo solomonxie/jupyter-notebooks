{
 "cells": [
  {
   "cell_type": "markdown",
   "metadata": {},
   "source": [
    "# Send Email"
   ]
  },
  {
   "cell_type": "markdown",
   "metadata": {},
   "source": [
    "## Send an HTML format email"
   ]
  },
  {
   "cell_type": "code",
   "execution_count": 10,
   "metadata": {},
   "outputs": [
    {
     "name": "stdout",
     "output_type": "stream",
     "text": [
      "Logging with server...\n",
      "Login successful.\n",
      "Email has been sent\n"
     ]
    }
   ],
   "source": [
    "import smtplib\n",
    "from email.mime.text import MIMEText\n",
    "\n",
    "# Settings of sender's server\n",
    "host = 'smtp.aliyun.com'\n",
    "sender = 'solomonxie@aliyun.com'\n",
    "user = 'solomonxie@aliyun.com'\n",
    "password = input('Please type your password: ')\n",
    "to = ['solomonxie@outlook.com']\n",
    "\n",
    "# Content of email\n",
    "subject = 'Python send html email test'\n",
    "with open('./dataset/out.html', 'r') as f:\n",
    "    content = f.read()\n",
    "\n",
    "# Settings of the email string\n",
    "email = MIMEText(content,'html','utf-8')\n",
    "email['Subject'] = subject\n",
    "email['From'] = sender\n",
    "email['To'] = to[0]\n",
    "msg = email.as_string()\n",
    "\n",
    "# Login the sender's server\n",
    "print('Logging with server...')\n",
    "smtpObj = smtplib.SMTP() \n",
    "smtpObj.connect(host, 25)\n",
    "smtpObj.login(user, password)\n",
    "print('Login successful.')\n",
    "\n",
    "# Send email\n",
    "smtpObj.sendmail(sender, to, msg) \n",
    "smtpObj.quit() \n",
    "print('Email has been sent')"
   ]
  },
  {
   "cell_type": "markdown",
   "metadata": {},
   "source": [
    "## Send an Email with attachments"
   ]
  },
  {
   "cell_type": "code",
   "execution_count": 14,
   "metadata": {},
   "outputs": [
    {
     "name": "stdout",
     "output_type": "stream",
     "text": [
      "Please type your password: xiaobo886\n",
      "Loaded content.\n",
      "Loaded txt attachment file.\n",
      "Loaded image attachment file.\n",
      "Logging with server...\n",
      "Login successful.\n",
      "Email has been sent\n"
     ]
    }
   ],
   "source": [
    "import smtplib\n",
    "from email.mime.text import MIMEText\n",
    "from email.mime.multipart import MIMEMultipart\n",
    "from email.mime.image import MIMEImage\n",
    "\n",
    "# Settings of sender's server\n",
    "host = 'smtp.aliyun.com'\n",
    "sender = 'solomonxie@aliyun.com'\n",
    "user = 'solomonxie@aliyun.com'\n",
    "password = input('Please type your password: ')\n",
    "to = ['solomonxie@outlook.com']\n",
    "\n",
    "# Make content of email\n",
    "subject = 'Python send email with attachments'\n",
    "with open('./dataset/out.html', 'r') as f:\n",
    "    content = MIMEText(f.read(),'html','utf-8')\n",
    "    content['Content-Type'] = 'text/html'\n",
    "    print('Loaded content.')\n",
    "\n",
    "# Make txt attachment\n",
    "with open('./dataset/in.md', 'r') as f:\n",
    "    txt = MIMEText(f.read(),'plain','utf-8')\n",
    "    txt['Content-Type'] = 'application/octet-stream'\n",
    "    txt['Content-Disposition'] = 'attachment;filename=\"in.md\"'\n",
    "    print('Loaded txt attachment file.')\n",
    "\n",
    "# Make image attachment\n",
    "with open('./dataset/pic.png', 'rb') as f:\n",
    "    img = MIMEImage(f.read())\n",
    "    img['Content-Type'] = 'application/octet-stream'\n",
    "    img['Content-Disposition'] = 'attachment;filename=\"pic.png\"'\n",
    "    print('Loaded image attachment file.')\n",
    "\n",
    "# Attach content & attachments to email\n",
    "email = MIMEMultipart()\n",
    "email.attach(content)\n",
    "email.attach(txt)\n",
    "email.attach(img)\n",
    "\n",
    "# Settings of the email string\n",
    "email['Subject'] = subject\n",
    "email['From'] = sender\n",
    "email['To'] = to[0]\n",
    "msg = email.as_string()\n",
    "\n",
    "# Login the sender's server\n",
    "print('Logging with server...')\n",
    "smtpObj = smtplib.SMTP() \n",
    "smtpObj.connect(host, 25)\n",
    "smtpObj.login(user, password)\n",
    "print('Login successful.')\n",
    "\n",
    "# Send email\n",
    "smtpObj.sendmail(sender, to, msg) \n",
    "smtpObj.quit() \n",
    "print('Email has been sent')"
   ]
  },
  {
   "cell_type": "code",
   "execution_count": null,
   "metadata": {},
   "outputs": [],
   "source": []
  }
 ],
 "metadata": {
  "kernelspec": {
   "display_name": "Python 3",
   "language": "python",
   "name": "python3"
  },
  "language_info": {
   "codemirror_mode": {
    "name": "ipython",
    "version": 3
   },
   "file_extension": ".py",
   "mimetype": "text/x-python",
   "name": "python",
   "nbconvert_exporter": "python",
   "pygments_lexer": "ipython3",
   "version": "3.6.5"
  }
 },
 "nbformat": 4,
 "nbformat_minor": 2
}
