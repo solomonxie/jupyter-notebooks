{
 "cells": [
  {
   "cell_type": "code",
   "execution_count": null,
   "metadata": {},
   "outputs": [],
   "source": []
  },
  {
   "cell_type": "code",
   "execution_count": null,
   "metadata": {},
   "outputs": [],
   "source": []
  },
  {
   "cell_type": "markdown",
   "metadata": {},
   "source": [
    "# Filter changes "
   ]
  },
  {
   "cell_type": "code",
   "execution_count": 19,
   "metadata": {},
   "outputs": [
    {
     "name": "stdout",
     "output_type": "stream",
     "text": [
      "49\n"
     ]
    },
    {
     "ename": "IndexError",
     "evalue": "list index out of range",
     "output_type": "error",
     "traceback": [
      "\u001b[0;31m-------------------------------------------------------\u001b[0m",
      "\u001b[0;31mIndexError\u001b[0m            Traceback (most recent call last)",
      "\u001b[0;32m<ipython-input-19-76ec61b893cc>\u001b[0m in \u001b[0;36m<module>\u001b[0;34m()\u001b[0m\n\u001b[1;32m     11\u001b[0m \u001b[0;34m\u001b[0m\u001b[0m\n\u001b[1;32m     12\u001b[0m \u001b[0mprint\u001b[0m\u001b[0;34m(\u001b[0m\u001b[0mlen\u001b[0m\u001b[0;34m(\u001b[0m\u001b[0mxx\u001b[0m\u001b[0;34m)\u001b[0m\u001b[0;34m)\u001b[0m\u001b[0;34m\u001b[0m\u001b[0m\n\u001b[0;32m---> 13\u001b[0;31m \u001b[0mprint\u001b[0m\u001b[0;34m(\u001b[0m\u001b[0mold\u001b[0m\u001b[0;34m[\u001b[0m\u001b[0;36m0\u001b[0m\u001b[0;34m]\u001b[0m \u001b[0;34m==\u001b[0m \u001b[0mnew\u001b[0m\u001b[0;34m[\u001b[0m\u001b[0;36m0\u001b[0m\u001b[0;34m]\u001b[0m\u001b[0;34m)\u001b[0m\u001b[0;34m\u001b[0m\u001b[0m\n\u001b[0m\u001b[1;32m     14\u001b[0m \u001b[0mprint\u001b[0m\u001b[0;34m(\u001b[0m\u001b[0mold\u001b[0m\u001b[0;34m[\u001b[0m\u001b[0;36m25\u001b[0m\u001b[0;34m]\u001b[0m \u001b[0;34m==\u001b[0m \u001b[0mnew\u001b[0m\u001b[0;34m[\u001b[0m\u001b[0;36m25\u001b[0m\u001b[0;34m]\u001b[0m\u001b[0;34m)\u001b[0m\u001b[0;34m\u001b[0m\u001b[0m\n\u001b[1;32m     15\u001b[0m \u001b[0;34m\u001b[0m\u001b[0m\n",
      "\u001b[0;31mIndexError\u001b[0m: list index out of range"
     ]
    }
   ],
   "source": [
    "import csv\n",
    "import json\n",
    "\n",
    "with open('dataset/issues-old.csv', 'r') as f, open('dataset/issues-new.json', 'r') as g:\n",
    "    reader = csv.reader(f, delimiter=',')\n",
    "    old = [ [int(row[0]),row[3]] for row in reader ]\n",
    "    xx = [ [int(row[0]),row[3]] for row in reader ]\n",
    "    new = [ [n['number'], n[\"updated_at\"]] for n in json.loads(g.read()) ]\n",
    "\n",
    "    \n",
    "print(len(xx))\n",
    "print(old[0] == new[0])\n",
    "print(old[25] == new[25])\n",
    "\n",
    "print(old[1])\n",
    "\n",
    "print('\\n\\n\\n')\n",
    "print(old)\n",
    "print('\\n\\n\\n')\n",
    "print(new)\n",
    "print('\\n\\n\\n')\n",
    "\n",
    "updates = [ n[0] for n in new if n not in old ]\n",
    "print(len(updates))\n",
    "print(updates)"
   ]
  },
  {
   "cell_type": "code",
   "execution_count": 27,
   "metadata": {},
   "outputs": [
    {
     "name": "stdout",
     "output_type": "stream",
     "text": [
      "49\n",
      "True\n",
      "False\n",
      "[49, '2018-07-19T18:51:25Z']\n",
      "\n",
      "\n",
      "\n",
      "\n",
      "[[50, '2018-05-29T09:30:43Z'], [49, '2018-07-19T18:51:25Z'], [48, '2018-07-19T08:07:41Z'], [47, '2018-05-29T09:31:03Z'], [46, '2018-07-13T18:26:10Z'], [45, '2018-06-24T15:49:11Z'], [44, '2018-07-14T08:58:08Z'], [43, '2018-05-29T09:31:42Z'], [42, '2018-06-03T17:43:47Z'], [40, '2018-07-13T18:24:38Z'], [39, '2018-07-21T06:15:23Z'], [38, '2018-05-29T09:32:09Z'], [37, '2018-05-29T09:32:15Z'], [36, '2018-05-29T09:32:20Z'], [35, '2018-07-22T19:44:30Z'], [34, '2018-05-29T09:32:36Z'], [33, '2018-07-17T19:03:26Z'], [32, '2018-07-21T10:28:09Z'], [31, '2018-07-19T08:02:16Z'], [30, '2018-07-16T10:11:20Z'], [29, '2018-07-18T17:37:36Z'], [28, '2018-05-29T09:33:11Z'], [27, '2018-07-22T16:49:36Z'], [26, '2018-07-22T18:02:29Z'], [25, '2018-07-21T07:07:44Z'], [24, '2018-07-23T11:47:56Z'], [23, '2018-05-29T09:34:26Z'], [22, '2018-06-10T06:17:34Z'], [21, '2018-05-29T09:34:35Z'], [20, '2018-07-23T07:03:03Z'], [19, '2018-05-29T09:34:46Z'], [18, '2018-05-29T09:34:50Z'], [17, '2018-05-29T09:34:57Z'], [16, '2018-06-09T11:30:50Z'], [15, '2018-05-29T09:35:07Z'], [14, '2018-05-29T09:35:11Z'], [13, '2018-05-29T09:35:15Z'], [12, '2018-05-29T09:35:21Z'], [11, '2018-05-29T09:35:26Z'], [10, '2018-06-04T08:17:35Z'], [9, '2018-05-29T09:42:08Z'], [8, '2018-05-29T09:42:13Z'], [7, '2018-05-29T09:42:19Z'], [6, '2018-05-29T09:42:26Z'], [5, '2018-05-29T09:42:31Z'], [4, '2018-05-29T09:42:39Z'], [3, '2018-05-29T09:42:45Z'], [2, '2018-05-29T09:42:49Z'], [1, '2018-05-29T10:06:24Z']]\n",
      "\n",
      "\n",
      "\n",
      "\n",
      "[[50, '2018-05-29T09:30:43Z'], [49, '2018-07-19T18:51:25Z'], [48, '2018-07-19T08:07:41Z'], [47, '2018-05-29T09:31:03Z'], [46, '2018-07-13T18:26:10Z'], [45, '2018-06-24T15:49:11Z'], [44, '2018-07-14T08:58:08Z'], [43, '2018-05-29T09:31:42Z'], [42, '2018-06-03T17:43:47Z'], [40, '2018-07-13T18:24:38Z'], [39, '2018-07-21T06:15:23Z'], [38, '2018-05-29T09:32:09Z'], [37, '2018-05-29T09:32:15Z'], [36, '2018-05-29T09:32:20Z'], [35, '2018-07-22T19:44:30Z'], [34, '2018-05-29T09:32:36Z'], [33, '2018-07-17T19:03:26Z'], [32, '2018-07-21T10:28:09Z'], [31, '2018-07-19T08:02:16Z'], [30, '2018-07-16T10:11:20Z'], [29, '2018-07-18T17:37:36Z'], [28, '2018-05-29T09:33:11Z'], [27, '2018-07-22T16:49:36Z'], [26, '2018-07-22T18:02:29Z'], [25, '2018-07-21T07:07:44Z'], [24, '2018-07-23T10:11:06Z'], [23, '2018-05-29T09:34:26Z'], [22, '2018-06-10T06:17:34Z'], [21, '2018-05-29T09:34:35Z'], [20, '2018-07-23T07:03:03Z'], [19, '2018-05-29T09:34:46Z'], [18, '2018-05-29T09:34:50Z'], [17, '2018-05-29T09:34:57Z'], [16, '2018-06-09T11:30:50Z'], [15, '2018-05-29T09:35:07Z'], [14, '2018-05-29T09:35:11Z'], [13, '2018-05-29T09:35:15Z'], [12, '2018-05-29T09:35:21Z'], [11, '2018-05-29T09:35:26Z'], [10, '2018-06-04T08:17:35Z'], [9, '2018-05-29T09:42:08Z'], [8, '2018-05-29T09:42:13Z'], [7, '2018-05-29T09:42:19Z'], [6, '2018-05-29T09:42:26Z'], [5, '2018-05-29T09:42:31Z'], [4, '2018-05-29T09:42:39Z'], [3, '2018-05-29T09:42:45Z'], [2, '2018-05-29T09:42:49Z'], [1, '2018-05-29T10:06:24Z']]\n",
      "\n",
      "\n",
      "\n",
      "\n",
      "1\n",
      "[24]\n"
     ]
    }
   ],
   "source": [
    "import json\n",
    "\n",
    "with open('dataset/issues-old.csv', 'r') as f, open('dataset/issues-new.json', 'r') as g:\n",
    "    csv_reader = [ n.split(',') for n in f.read().split('\\n') ]\n",
    "    old =  [ [int(row[0]),row[3]] for row in csv_reader ]\n",
    "    new = [ [n['number'], n[\"updated_at\"]] for n in json.loads(g.read()) ]\n",
    "\n",
    "    \n",
    "print(len(xx))\n",
    "print(old[0] == new[0])\n",
    "print(old[25] == new[25])\n",
    "\n",
    "print(old[1])\n",
    "\n",
    "print('\\n\\n\\n')\n",
    "print(old)\n",
    "print('\\n\\n\\n')\n",
    "print(new)\n",
    "print('\\n\\n\\n')\n",
    "\n",
    "updates = [ n[0] for n in new if n not in old ]\n",
    "print(len(updates))\n",
    "print(updates)"
   ]
  },
  {
   "cell_type": "code",
   "execution_count": null,
   "metadata": {},
   "outputs": [],
   "source": []
  },
  {
   "cell_type": "code",
   "execution_count": null,
   "metadata": {},
   "outputs": [],
   "source": []
  }
 ],
 "metadata": {
  "kernelspec": {
   "display_name": "Python 3",
   "language": "python",
   "name": "python3"
  },
  "language_info": {
   "codemirror_mode": {
    "name": "ipython",
    "version": 3
   },
   "file_extension": ".py",
   "mimetype": "text/x-python",
   "name": "python",
   "nbconvert_exporter": "python",
   "pygments_lexer": "ipython3",
   "version": "3.7.0"
  }
 },
 "nbformat": 4,
 "nbformat_minor": 2
}
